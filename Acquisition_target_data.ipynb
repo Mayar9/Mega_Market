{
 "cells": [
  {
   "cell_type": "markdown",
   "metadata": {},
   "source": [
    "##### Importing needed Packages "
   ]
  },
  {
   "cell_type": "code",
   "execution_count": 342,
   "metadata": {},
   "outputs": [],
   "source": [
    "import pandas as pd \n",
    "import numpy as np \n",
    "import matplotlib.pyplot as plt \n",
    "import seaborn as sns"
   ]
  },
  {
   "cell_type": "markdown",
   "metadata": {},
   "source": [
    "### Loading Transactions sheet and explore it  "
   ]
  },
  {
   "cell_type": "code",
   "execution_count": 343,
   "metadata": {},
   "outputs": [
    {
     "data": {
      "text/html": [
       "<div>\n",
       "<style scoped>\n",
       "    .dataframe tbody tr th:only-of-type {\n",
       "        vertical-align: middle;\n",
       "    }\n",
       "\n",
       "    .dataframe tbody tr th {\n",
       "        vertical-align: top;\n",
       "    }\n",
       "\n",
       "    .dataframe thead th {\n",
       "        text-align: right;\n",
       "    }\n",
       "</style>\n",
       "<table border=\"1\" class=\"dataframe\">\n",
       "  <thead>\n",
       "    <tr style=\"text-align: right;\">\n",
       "      <th></th>\n",
       "      <th>household_key</th>\n",
       "      <th>BASKET_ID</th>\n",
       "      <th>DAY</th>\n",
       "      <th>PRODUCT_ID</th>\n",
       "      <th>QUANTITY</th>\n",
       "      <th>SALES_VALUE</th>\n",
       "      <th>STORE_ID</th>\n",
       "      <th>RETAIL_DISC</th>\n",
       "      <th>WEEK_NO</th>\n",
       "      <th>COUPON_DISC</th>\n",
       "      <th>COUPON_MATCH_DISC</th>\n",
       "    </tr>\n",
       "  </thead>\n",
       "  <tbody>\n",
       "    <tr>\n",
       "      <th>0</th>\n",
       "      <td>1364</td>\n",
       "      <td>26984896261</td>\n",
       "      <td>1</td>\n",
       "      <td>842930</td>\n",
       "      <td>1</td>\n",
       "      <td>2.19</td>\n",
       "      <td>31742</td>\n",
       "      <td>0.00</td>\n",
       "      <td>1</td>\n",
       "      <td>0.0</td>\n",
       "      <td>0.0</td>\n",
       "    </tr>\n",
       "    <tr>\n",
       "      <th>1</th>\n",
       "      <td>1364</td>\n",
       "      <td>26984896261</td>\n",
       "      <td>1</td>\n",
       "      <td>897044</td>\n",
       "      <td>1</td>\n",
       "      <td>2.99</td>\n",
       "      <td>31742</td>\n",
       "      <td>-0.40</td>\n",
       "      <td>1</td>\n",
       "      <td>0.0</td>\n",
       "      <td>0.0</td>\n",
       "    </tr>\n",
       "    <tr>\n",
       "      <th>2</th>\n",
       "      <td>1364</td>\n",
       "      <td>26984896261</td>\n",
       "      <td>1</td>\n",
       "      <td>920955</td>\n",
       "      <td>1</td>\n",
       "      <td>3.09</td>\n",
       "      <td>31742</td>\n",
       "      <td>0.00</td>\n",
       "      <td>1</td>\n",
       "      <td>0.0</td>\n",
       "      <td>0.0</td>\n",
       "    </tr>\n",
       "    <tr>\n",
       "      <th>3</th>\n",
       "      <td>1364</td>\n",
       "      <td>26984896261</td>\n",
       "      <td>1</td>\n",
       "      <td>937406</td>\n",
       "      <td>1</td>\n",
       "      <td>2.50</td>\n",
       "      <td>31742</td>\n",
       "      <td>-0.99</td>\n",
       "      <td>1</td>\n",
       "      <td>0.0</td>\n",
       "      <td>0.0</td>\n",
       "    </tr>\n",
       "    <tr>\n",
       "      <th>4</th>\n",
       "      <td>1364</td>\n",
       "      <td>26984896261</td>\n",
       "      <td>1</td>\n",
       "      <td>981760</td>\n",
       "      <td>1</td>\n",
       "      <td>0.60</td>\n",
       "      <td>31742</td>\n",
       "      <td>-0.79</td>\n",
       "      <td>1</td>\n",
       "      <td>0.0</td>\n",
       "      <td>0.0</td>\n",
       "    </tr>\n",
       "  </tbody>\n",
       "</table>\n",
       "</div>"
      ],
      "text/plain": [
       "   household_key    BASKET_ID  DAY  PRODUCT_ID  QUANTITY  SALES_VALUE  \\\n",
       "0           1364  26984896261    1      842930         1         2.19   \n",
       "1           1364  26984896261    1      897044         1         2.99   \n",
       "2           1364  26984896261    1      920955         1         3.09   \n",
       "3           1364  26984896261    1      937406         1         2.50   \n",
       "4           1364  26984896261    1      981760         1         0.60   \n",
       "\n",
       "   STORE_ID  RETAIL_DISC  WEEK_NO  COUPON_DISC  COUPON_MATCH_DISC  \n",
       "0     31742         0.00        1          0.0                0.0  \n",
       "1     31742        -0.40        1          0.0                0.0  \n",
       "2     31742         0.00        1          0.0                0.0  \n",
       "3     31742        -0.99        1          0.0                0.0  \n",
       "4     31742        -0.79        1          0.0                0.0  "
      ]
     },
     "execution_count": 343,
     "metadata": {},
     "output_type": "execute_result"
    }
   ],
   "source": [
    "transactions_df = pd.read_csv(r'E:\\MegaMarket_Project\\megaMarket\\changes\\Maven CSV - NPz files\\project_transactions.csv', \n",
    "                              delimiter=',')\n",
    "\n",
    "\n",
    "transactions_df.head()"
   ]
  },
  {
   "cell_type": "code",
   "execution_count": 344,
   "metadata": {},
   "outputs": [
    {
     "data": {
      "text/plain": [
       "household_key        0\n",
       "BASKET_ID            0\n",
       "DAY                  0\n",
       "PRODUCT_ID           0\n",
       "QUANTITY             0\n",
       "SALES_VALUE          0\n",
       "STORE_ID             0\n",
       "RETAIL_DISC          0\n",
       "WEEK_NO              0\n",
       "COUPON_DISC          0\n",
       "COUPON_MATCH_DISC    0\n",
       "dtype: int64"
      ]
     },
     "execution_count": 344,
     "metadata": {},
     "output_type": "execute_result"
    }
   ],
   "source": [
    "'''Checking missing data'''\n",
    "transactions_df.isna().sum()"
   ]
  },
  {
   "cell_type": "code",
   "execution_count": 345,
   "metadata": {},
   "outputs": [
    {
     "data": {
      "text/plain": [
       "household_key          int64\n",
       "BASKET_ID              int64\n",
       "DAY                    int64\n",
       "PRODUCT_ID             int64\n",
       "QUANTITY               int64\n",
       "SALES_VALUE          float64\n",
       "STORE_ID               int64\n",
       "RETAIL_DISC          float64\n",
       "WEEK_NO                int64\n",
       "COUPON_DISC          float64\n",
       "COUPON_MATCH_DISC    float64\n",
       "dtype: object"
      ]
     },
     "execution_count": 345,
     "metadata": {},
     "output_type": "execute_result"
    }
   ],
   "source": [
    "'''Modify datatypes for all columns'''\n",
    "transactions_df.dtypes"
   ]
  },
  {
   "cell_type": "code",
   "execution_count": 346,
   "metadata": {},
   "outputs": [
    {
     "name": "stdout",
     "output_type": "stream",
     "text": [
      "<class 'pandas.core.frame.DataFrame'>\n",
      "RangeIndex: 2146311 entries, 0 to 2146310\n",
      "Data columns (total 11 columns):\n",
      " #   Column             Dtype  \n",
      "---  ------             -----  \n",
      " 0   household_key      int64  \n",
      " 1   BASKET_ID          int64  \n",
      " 2   DAY                int64  \n",
      " 3   PRODUCT_ID         int64  \n",
      " 4   QUANTITY           int64  \n",
      " 5   SALES_VALUE        float64\n",
      " 6   STORE_ID           int64  \n",
      " 7   RETAIL_DISC        float64\n",
      " 8   WEEK_NO            int64  \n",
      " 9   COUPON_DISC        float64\n",
      " 10  COUPON_MATCH_DISC  float64\n",
      "dtypes: float64(4), int64(7)\n",
      "memory usage: 180.1 MB\n"
     ]
    }
   ],
   "source": [
    "transactions_df.info(memory_usage='deep')  #usage: 180.1MB"
   ]
  },
  {
   "cell_type": "code",
   "execution_count": 347,
   "metadata": {},
   "outputs": [
    {
     "data": {
      "text/html": [
       "<div>\n",
       "<style scoped>\n",
       "    .dataframe tbody tr th:only-of-type {\n",
       "        vertical-align: middle;\n",
       "    }\n",
       "\n",
       "    .dataframe tbody tr th {\n",
       "        vertical-align: top;\n",
       "    }\n",
       "\n",
       "    .dataframe thead th {\n",
       "        text-align: right;\n",
       "    }\n",
       "</style>\n",
       "<table border=\"1\" class=\"dataframe\">\n",
       "  <thead>\n",
       "    <tr style=\"text-align: right;\">\n",
       "      <th></th>\n",
       "      <th>household_key</th>\n",
       "      <th>BASKET_ID</th>\n",
       "      <th>DAY</th>\n",
       "      <th>PRODUCT_ID</th>\n",
       "      <th>QUANTITY</th>\n",
       "      <th>SALES_VALUE</th>\n",
       "      <th>STORE_ID</th>\n",
       "      <th>RETAIL_DISC</th>\n",
       "      <th>WEEK_NO</th>\n",
       "      <th>COUPON_DISC</th>\n",
       "      <th>COUPON_MATCH_DISC</th>\n",
       "    </tr>\n",
       "  </thead>\n",
       "  <tbody>\n",
       "    <tr>\n",
       "      <th>count</th>\n",
       "      <td>2146311.00</td>\n",
       "      <td>2.146311e+06</td>\n",
       "      <td>2146311.00</td>\n",
       "      <td>2146311.00</td>\n",
       "      <td>2146311.00</td>\n",
       "      <td>2146311.00</td>\n",
       "      <td>2146311.00</td>\n",
       "      <td>2146311.00</td>\n",
       "      <td>2146311.00</td>\n",
       "      <td>2146311.00</td>\n",
       "      <td>2146311.00</td>\n",
       "    </tr>\n",
       "    <tr>\n",
       "      <th>mean</th>\n",
       "      <td>1056.23</td>\n",
       "      <td>3.404897e+10</td>\n",
       "      <td>389.51</td>\n",
       "      <td>2884714.94</td>\n",
       "      <td>100.97</td>\n",
       "      <td>3.11</td>\n",
       "      <td>3267.94</td>\n",
       "      <td>-0.53</td>\n",
       "      <td>56.33</td>\n",
       "      <td>-0.02</td>\n",
       "      <td>-0.00</td>\n",
       "    </tr>\n",
       "    <tr>\n",
       "      <th>std</th>\n",
       "      <td>605.01</td>\n",
       "      <td>4.723748e+09</td>\n",
       "      <td>190.05</td>\n",
       "      <td>3831949.29</td>\n",
       "      <td>1152.36</td>\n",
       "      <td>4.19</td>\n",
       "      <td>9122.39</td>\n",
       "      <td>1.23</td>\n",
       "      <td>27.15</td>\n",
       "      <td>0.21</td>\n",
       "      <td>0.04</td>\n",
       "    </tr>\n",
       "    <tr>\n",
       "      <th>min</th>\n",
       "      <td>1.00</td>\n",
       "      <td>2.698490e+10</td>\n",
       "      <td>1.00</td>\n",
       "      <td>25671.00</td>\n",
       "      <td>0.00</td>\n",
       "      <td>0.00</td>\n",
       "      <td>1.00</td>\n",
       "      <td>-130.02</td>\n",
       "      <td>1.00</td>\n",
       "      <td>-55.93</td>\n",
       "      <td>-7.70</td>\n",
       "    </tr>\n",
       "    <tr>\n",
       "      <th>25%</th>\n",
       "      <td>548.00</td>\n",
       "      <td>3.040798e+10</td>\n",
       "      <td>229.00</td>\n",
       "      <td>917231.00</td>\n",
       "      <td>1.00</td>\n",
       "      <td>1.29</td>\n",
       "      <td>330.00</td>\n",
       "      <td>-0.68</td>\n",
       "      <td>33.00</td>\n",
       "      <td>0.00</td>\n",
       "      <td>0.00</td>\n",
       "    </tr>\n",
       "    <tr>\n",
       "      <th>50%</th>\n",
       "      <td>1042.00</td>\n",
       "      <td>3.281176e+10</td>\n",
       "      <td>392.00</td>\n",
       "      <td>1027960.00</td>\n",
       "      <td>1.00</td>\n",
       "      <td>2.00</td>\n",
       "      <td>372.00</td>\n",
       "      <td>0.00</td>\n",
       "      <td>57.00</td>\n",
       "      <td>0.00</td>\n",
       "      <td>0.00</td>\n",
       "    </tr>\n",
       "    <tr>\n",
       "      <th>75%</th>\n",
       "      <td>1581.00</td>\n",
       "      <td>4.012804e+10</td>\n",
       "      <td>555.00</td>\n",
       "      <td>1132771.00</td>\n",
       "      <td>1.00</td>\n",
       "      <td>3.49</td>\n",
       "      <td>422.00</td>\n",
       "      <td>0.00</td>\n",
       "      <td>80.00</td>\n",
       "      <td>0.00</td>\n",
       "      <td>0.00</td>\n",
       "    </tr>\n",
       "    <tr>\n",
       "      <th>max</th>\n",
       "      <td>2099.00</td>\n",
       "      <td>4.230536e+10</td>\n",
       "      <td>711.00</td>\n",
       "      <td>18316298.00</td>\n",
       "      <td>89638.00</td>\n",
       "      <td>840.00</td>\n",
       "      <td>34280.00</td>\n",
       "      <td>3.99</td>\n",
       "      <td>102.00</td>\n",
       "      <td>0.00</td>\n",
       "      <td>0.00</td>\n",
       "    </tr>\n",
       "  </tbody>\n",
       "</table>\n",
       "</div>"
      ],
      "text/plain": [
       "       household_key     BASKET_ID         DAY   PRODUCT_ID    QUANTITY  \\\n",
       "count     2146311.00  2.146311e+06  2146311.00   2146311.00  2146311.00   \n",
       "mean         1056.23  3.404897e+10      389.51   2884714.94      100.97   \n",
       "std           605.01  4.723748e+09      190.05   3831949.29     1152.36   \n",
       "min             1.00  2.698490e+10        1.00     25671.00        0.00   \n",
       "25%           548.00  3.040798e+10      229.00    917231.00        1.00   \n",
       "50%          1042.00  3.281176e+10      392.00   1027960.00        1.00   \n",
       "75%          1581.00  4.012804e+10      555.00   1132771.00        1.00   \n",
       "max          2099.00  4.230536e+10      711.00  18316298.00    89638.00   \n",
       "\n",
       "       SALES_VALUE    STORE_ID  RETAIL_DISC     WEEK_NO  COUPON_DISC  \\\n",
       "count   2146311.00  2146311.00   2146311.00  2146311.00   2146311.00   \n",
       "mean          3.11     3267.94        -0.53       56.33        -0.02   \n",
       "std           4.19     9122.39         1.23       27.15         0.21   \n",
       "min           0.00        1.00      -130.02        1.00       -55.93   \n",
       "25%           1.29      330.00        -0.68       33.00         0.00   \n",
       "50%           2.00      372.00         0.00       57.00         0.00   \n",
       "75%           3.49      422.00         0.00       80.00         0.00   \n",
       "max         840.00    34280.00         3.99      102.00         0.00   \n",
       "\n",
       "       COUPON_MATCH_DISC  \n",
       "count         2146311.00  \n",
       "mean               -0.00  \n",
       "std                 0.04  \n",
       "min                -7.70  \n",
       "25%                 0.00  \n",
       "50%                 0.00  \n",
       "75%                 0.00  \n",
       "max                 0.00  "
      ]
     },
     "execution_count": 347,
     "metadata": {},
     "output_type": "execute_result"
    }
   ],
   "source": [
    "transactions_df.describe().round(2) "
   ]
  },
  {
   "cell_type": "code",
   "execution_count": 348,
   "metadata": {},
   "outputs": [
    {
     "name": "stdout",
     "output_type": "stream",
     "text": [
      "<class 'pandas.core.frame.DataFrame'>\n",
      "RangeIndex: 2146311 entries, 0 to 2146310\n",
      "Data columns (total 11 columns):\n",
      " #   Column             Dtype  \n",
      "---  ------             -----  \n",
      " 0   household_key      int64  \n",
      " 1   BASKET_ID          int64  \n",
      " 2   DAY                int64  \n",
      " 3   PRODUCT_ID         int64  \n",
      " 4   QUANTITY           int64  \n",
      " 5   SALES_VALUE        float64\n",
      " 6   STORE_ID           int64  \n",
      " 7   RETAIL_DISC        float32\n",
      " 8   WEEK_NO            int32  \n",
      " 9   COUPON_DISC        float32\n",
      " 10  COUPON_MATCH_DISC  float32\n",
      "dtypes: float32(3), float64(1), int32(1), int64(6)\n",
      "memory usage: 147.4 MB\n"
     ]
    }
   ],
   "source": [
    "'''\n",
    "1. Discounts has small values and can be replaced with float32\n",
    "2. WEEK_NO has small values int32\n",
    "'''\n",
    "\n",
    "\n",
    "#way1\n",
    "transactions_df.astype(\n",
    "    {\n",
    "    'RETAIL_DISC': 'float32', \n",
    "    'COUPON_DISC': 'float32', \n",
    "    'COUPON_MATCH_DISC': 'float32', \n",
    "    'WEEK_NO': 'int32'\n",
    "    }\n",
    "    \n",
    ")\n",
    "# doesn't change --> memory usage: 180.1 MB\n",
    "\n",
    "# transactions_df.info(memory_usage='deep')\n",
    "\n",
    "\n",
    "\n",
    "transactions_df = pd.read_csv(r'E:\\MegaMarket_Project\\megaMarket\\changes\\Maven CSV - NPz files\\project_transactions.csv', \n",
    "                              delimiter=',', \n",
    "                              dtype= {'RETAIL_DISC': 'float32', \n",
    "                                    'COUPON_DISC': 'float32', \n",
    "                                    'COUPON_MATCH_DISC': 'float32', \n",
    "                                    'WEEK_NO': 'int32'\n",
    "                                     }\n",
    "                            )\n",
    "\n",
    "\n",
    "transactions_df.info(memory_usage='deep')  #memory usage: 147.4 MB"
   ]
  },
  {
   "cell_type": "markdown",
   "metadata": {},
   "source": [
    "##### Check count of our dimensions in transaction model"
   ]
  },
  {
   "cell_type": "code",
   "execution_count": 349,
   "metadata": {},
   "outputs": [
    {
     "name": "stdout",
     "output_type": "stream",
     "text": [
      "2146311\n"
     ]
    },
    {
     "data": {
      "text/plain": [
       "84138"
      ]
     },
     "execution_count": 349,
     "metadata": {},
     "output_type": "execute_result"
    }
   ],
   "source": [
    "'''unique values for products IDs dimension in transactional model'''\n",
    "\n",
    "print(transactions_df['PRODUCT_ID'].count())\n",
    "transactions_df['PRODUCT_ID'].nunique()"
   ]
  },
  {
   "cell_type": "code",
   "execution_count": 350,
   "metadata": {},
   "outputs": [
    {
     "name": "stdout",
     "output_type": "stream",
     "text": [
      "2146311\n"
     ]
    },
    {
     "data": {
      "text/plain": [
       "2099"
      ]
     },
     "execution_count": 350,
     "metadata": {},
     "output_type": "execute_result"
    }
   ],
   "source": [
    "'''unique values for household dimension in transactional tmodel'''\n",
    "print(transactions_df['household_key'].count())\n",
    "transactions_df['household_key'].nunique()"
   ]
  },
  {
   "cell_type": "code",
   "execution_count": 351,
   "metadata": {},
   "outputs": [
    {
     "data": {
      "text/html": [
       "<div>\n",
       "<style scoped>\n",
       "    .dataframe tbody tr th:only-of-type {\n",
       "        vertical-align: middle;\n",
       "    }\n",
       "\n",
       "    .dataframe tbody tr th {\n",
       "        vertical-align: top;\n",
       "    }\n",
       "\n",
       "    .dataframe thead th {\n",
       "        text-align: right;\n",
       "    }\n",
       "</style>\n",
       "<table border=\"1\" class=\"dataframe\">\n",
       "  <thead>\n",
       "    <tr style=\"text-align: right;\">\n",
       "      <th></th>\n",
       "      <th>RETAIL_DISC</th>\n",
       "      <th>COUPON_DISC</th>\n",
       "      <th>COUPON_MATCH_DISC</th>\n",
       "    </tr>\n",
       "  </thead>\n",
       "  <tbody>\n",
       "    <tr>\n",
       "      <th>123</th>\n",
       "      <td>-0.69</td>\n",
       "      <td>-0.40</td>\n",
       "      <td>-0.40</td>\n",
       "    </tr>\n",
       "    <tr>\n",
       "      <th>143</th>\n",
       "      <td>-0.90</td>\n",
       "      <td>-0.75</td>\n",
       "      <td>-0.25</td>\n",
       "    </tr>\n",
       "    <tr>\n",
       "      <th>199</th>\n",
       "      <td>-0.49</td>\n",
       "      <td>-0.55</td>\n",
       "      <td>-0.45</td>\n",
       "    </tr>\n",
       "    <tr>\n",
       "      <th>509</th>\n",
       "      <td>-1.87</td>\n",
       "      <td>-2.25</td>\n",
       "      <td>-0.75</td>\n",
       "    </tr>\n",
       "    <tr>\n",
       "      <th>584</th>\n",
       "      <td>-0.89</td>\n",
       "      <td>-0.55</td>\n",
       "      <td>-0.45</td>\n",
       "    </tr>\n",
       "    <tr>\n",
       "      <th>...</th>\n",
       "      <td>...</td>\n",
       "      <td>...</td>\n",
       "      <td>...</td>\n",
       "    </tr>\n",
       "    <tr>\n",
       "      <th>2146008</th>\n",
       "      <td>0.00</td>\n",
       "      <td>-0.50</td>\n",
       "      <td>-0.50</td>\n",
       "    </tr>\n",
       "    <tr>\n",
       "      <th>2146016</th>\n",
       "      <td>-0.30</td>\n",
       "      <td>-0.35</td>\n",
       "      <td>-0.35</td>\n",
       "    </tr>\n",
       "    <tr>\n",
       "      <th>2146026</th>\n",
       "      <td>0.00</td>\n",
       "      <td>-0.40</td>\n",
       "      <td>-0.40</td>\n",
       "    </tr>\n",
       "    <tr>\n",
       "      <th>2146031</th>\n",
       "      <td>0.00</td>\n",
       "      <td>-0.70</td>\n",
       "      <td>-0.30</td>\n",
       "    </tr>\n",
       "    <tr>\n",
       "      <th>2146033</th>\n",
       "      <td>0.00</td>\n",
       "      <td>-0.50</td>\n",
       "      <td>-0.50</td>\n",
       "    </tr>\n",
       "  </tbody>\n",
       "</table>\n",
       "<p>13823 rows × 3 columns</p>\n",
       "</div>"
      ],
      "text/plain": [
       "         RETAIL_DISC  COUPON_DISC  COUPON_MATCH_DISC\n",
       "123            -0.69        -0.40              -0.40\n",
       "143            -0.90        -0.75              -0.25\n",
       "199            -0.49        -0.55              -0.45\n",
       "509            -1.87        -2.25              -0.75\n",
       "584            -0.89        -0.55              -0.45\n",
       "...              ...          ...                ...\n",
       "2146008         0.00        -0.50              -0.50\n",
       "2146016        -0.30        -0.35              -0.35\n",
       "2146026         0.00        -0.40              -0.40\n",
       "2146031         0.00        -0.70              -0.30\n",
       "2146033         0.00        -0.50              -0.50\n",
       "\n",
       "[13823 rows x 3 columns]"
      ]
     },
     "execution_count": 351,
     "metadata": {},
     "output_type": "execute_result"
    }
   ],
   "source": [
    "'''explore the discount calculation'''\n",
    "transactions_df[['RETAIL_DISC', 'COUPON_DISC', 'COUPON_MATCH_DISC']].query(\"COUPON_DISC != 0 and COUPON_MATCH_DISC != 0 \")"
   ]
  },
  {
   "cell_type": "markdown",
   "metadata": {},
   "source": [
    "## Create new calculated columns based on Business"
   ]
  },
  {
   "cell_type": "markdown",
   "metadata": {},
   "source": [
    "##### \n",
    "1. total_discount  = RETAIL_DISC +  COUPON_DISC \n",
    "2. discount %  =  abs(total_discount / sales_value)  ---> As total_discount increase, discount_percentage increase (selling product will be highly less than actual product price)\n",
    "3. drop main discounts columns (RETAIL_DISC, COUPON_DISC, COUPON_MATCH_DISC)"
   ]
  },
  {
   "cell_type": "code",
   "execution_count": 352,
   "metadata": {},
   "outputs": [],
   "source": [
    "transactions_df = transactions_df.assign(\n",
    "    total_discount = transactions_df['RETAIL_DISC'] + transactions_df['COUPON_DISC'], \n",
    "    discount_percent = lambda var: (var['total_discount'] / var['SALES_VALUE']).round(2).abs()\n",
    ").drop(['RETAIL_DISC', 'COUPON_DISC', 'COUPON_MATCH_DISC'], axis=1).reindex(['household_key', 'BASKET_ID', 'DAY', 'WEEK_NO', 'PRODUCT_ID', 'STORE_ID', 'QUANTITY', 'SALES_VALUE', 'total_discount', 'discount_percent'], axis=1)\n",
    "# .query(\"total_discount != 0\")"
   ]
  },
  {
   "cell_type": "code",
   "execution_count": 353,
   "metadata": {},
   "outputs": [
    {
     "data": {
      "text/html": [
       "<div>\n",
       "<style scoped>\n",
       "    .dataframe tbody tr th:only-of-type {\n",
       "        vertical-align: middle;\n",
       "    }\n",
       "\n",
       "    .dataframe tbody tr th {\n",
       "        vertical-align: top;\n",
       "    }\n",
       "\n",
       "    .dataframe thead th {\n",
       "        text-align: right;\n",
       "    }\n",
       "</style>\n",
       "<table border=\"1\" class=\"dataframe\">\n",
       "  <thead>\n",
       "    <tr style=\"text-align: right;\">\n",
       "      <th></th>\n",
       "      <th>household_key</th>\n",
       "      <th>BASKET_ID</th>\n",
       "      <th>DAY</th>\n",
       "      <th>WEEK_NO</th>\n",
       "      <th>PRODUCT_ID</th>\n",
       "      <th>STORE_ID</th>\n",
       "      <th>QUANTITY</th>\n",
       "      <th>SALES_VALUE</th>\n",
       "      <th>total_discount</th>\n",
       "      <th>discount_percent</th>\n",
       "    </tr>\n",
       "  </thead>\n",
       "  <tbody>\n",
       "    <tr>\n",
       "      <th>0</th>\n",
       "      <td>1364</td>\n",
       "      <td>26984896261</td>\n",
       "      <td>1</td>\n",
       "      <td>1</td>\n",
       "      <td>842930</td>\n",
       "      <td>31742</td>\n",
       "      <td>1</td>\n",
       "      <td>2.19</td>\n",
       "      <td>0.00</td>\n",
       "      <td>0.00</td>\n",
       "    </tr>\n",
       "    <tr>\n",
       "      <th>1</th>\n",
       "      <td>1364</td>\n",
       "      <td>26984896261</td>\n",
       "      <td>1</td>\n",
       "      <td>1</td>\n",
       "      <td>897044</td>\n",
       "      <td>31742</td>\n",
       "      <td>1</td>\n",
       "      <td>2.99</td>\n",
       "      <td>-0.40</td>\n",
       "      <td>0.13</td>\n",
       "    </tr>\n",
       "    <tr>\n",
       "      <th>2</th>\n",
       "      <td>1364</td>\n",
       "      <td>26984896261</td>\n",
       "      <td>1</td>\n",
       "      <td>1</td>\n",
       "      <td>920955</td>\n",
       "      <td>31742</td>\n",
       "      <td>1</td>\n",
       "      <td>3.09</td>\n",
       "      <td>0.00</td>\n",
       "      <td>0.00</td>\n",
       "    </tr>\n",
       "    <tr>\n",
       "      <th>3</th>\n",
       "      <td>1364</td>\n",
       "      <td>26984896261</td>\n",
       "      <td>1</td>\n",
       "      <td>1</td>\n",
       "      <td>937406</td>\n",
       "      <td>31742</td>\n",
       "      <td>1</td>\n",
       "      <td>2.50</td>\n",
       "      <td>-0.99</td>\n",
       "      <td>0.40</td>\n",
       "    </tr>\n",
       "    <tr>\n",
       "      <th>4</th>\n",
       "      <td>1364</td>\n",
       "      <td>26984896261</td>\n",
       "      <td>1</td>\n",
       "      <td>1</td>\n",
       "      <td>981760</td>\n",
       "      <td>31742</td>\n",
       "      <td>1</td>\n",
       "      <td>0.60</td>\n",
       "      <td>-0.79</td>\n",
       "      <td>1.00</td>\n",
       "    </tr>\n",
       "  </tbody>\n",
       "</table>\n",
       "</div>"
      ],
      "text/plain": [
       "   household_key    BASKET_ID  DAY  WEEK_NO  PRODUCT_ID  STORE_ID  QUANTITY  \\\n",
       "0           1364  26984896261    1        1      842930     31742         1   \n",
       "1           1364  26984896261    1        1      897044     31742         1   \n",
       "2           1364  26984896261    1        1      920955     31742         1   \n",
       "3           1364  26984896261    1        1      937406     31742         1   \n",
       "4           1364  26984896261    1        1      981760     31742         1   \n",
       "\n",
       "   SALES_VALUE  total_discount  discount_percent  \n",
       "0         2.19            0.00              0.00  \n",
       "1         2.99           -0.40              0.13  \n",
       "2         3.09            0.00              0.00  \n",
       "3         2.50           -0.99              0.40  \n",
       "4         0.60           -0.79              1.00  "
      ]
     },
     "execution_count": 353,
     "metadata": {},
     "output_type": "execute_result"
    }
   ],
   "source": [
    "transactions_df[\"discount_percent\"] = (transactions_df[\"discount_percent\"]\n",
    "                                       .where(transactions_df[\"discount_percent\"] < 1, 1.0)\n",
    "                                       .where(transactions_df[\"discount_percent\"] > 0, 0)\n",
    "                                      )\n",
    "\n",
    "transactions_df.head()"
   ]
  },
  {
   "cell_type": "markdown",
   "metadata": {},
   "source": [
    "## Overall Statistics (Measures)"
   ]
  },
  {
   "cell_type": "markdown",
   "metadata": {},
   "source": [
    "#####\n",
    "1. total_sales = sum(`SALES_VALUE`)\n",
    "2. total_discount = sum(`total_discount`)\n",
    "3. overall_discount_percent = sum(`total_discount`) / sum(`SALES_VALUE`)\n",
    "4. quantity_sold = sum(`QUANTITY`)\n",
    "5. Max quantity sold in a single row. Inspect the row as well. Does this have a high discount percentage?\n",
    "6. Total_sales_basket_id =  sum(`SALES_VALUE`) / nunique `basket_id`.\n",
    "7. Total_sales_household_id = sum(`SALES_VALUE`) / nunique `household_key`. \n",
    "8. What was the highest quantiy sold for a single item in a single row?\n"
   ]
  },
  {
   "cell_type": "code",
   "execution_count": 354,
   "metadata": {},
   "outputs": [
    {
     "data": {
      "text/plain": [
       "6666243.5"
      ]
     },
     "execution_count": 354,
     "metadata": {},
     "output_type": "execute_result"
    }
   ],
   "source": [
    "'''total_sales = sum(`SALES_VALUE`)'''\n",
    "total_sales = transactions_df['SALES_VALUE'].sum().round(2)\n",
    "total_sales"
   ]
  },
  {
   "cell_type": "code",
   "execution_count": 355,
   "metadata": {},
   "outputs": [
    {
     "data": {
      "text/plain": [
       "-1178658.0"
      ]
     },
     "execution_count": 355,
     "metadata": {},
     "output_type": "execute_result"
    }
   ],
   "source": [
    "'''total_discount = sum(`total_discount`)'''\n",
    "total_discount = transactions_df['total_discount'].sum()\n",
    "total_discount"
   ]
  },
  {
   "cell_type": "code",
   "execution_count": 356,
   "metadata": {},
   "outputs": [
    {
     "data": {
      "text/plain": [
       "-0.18"
      ]
     },
     "execution_count": 356,
     "metadata": {},
     "output_type": "execute_result"
    }
   ],
   "source": [
    "'''overall_discount_percent = sum(total_discount) / sum(SALES_VALUE)'''\n",
    "overall_discount_percent = (transactions_df['total_discount'].sum() / transactions_df['SALES_VALUE'].sum()).round(2)\n",
    "overall_discount_percent"
   ]
  },
  {
   "cell_type": "code",
   "execution_count": 357,
   "metadata": {},
   "outputs": [
    {
     "data": {
      "text/plain": [
       "0.2074489531107095"
      ]
     },
     "execution_count": 357,
     "metadata": {},
     "output_type": "execute_result"
    }
   ],
   "source": [
    "transactions_df['discount_percent'].mean()"
   ]
  },
  {
   "cell_type": "markdown",
   "metadata": {},
   "source": [
    "# Conclusion \n",
    "* `Discount_percent` is 17.7%.\n",
    "\n",
    "Now, if we take the average of our percentage discount column, we'll get a slightly different value, which is 21% on a row by row basis.\n",
    "\n",
    "* Our `average_discount_percent` is 21%.\n",
    "\n",
    "So this indicates that we're giving discounts on items that represent a smaller portion of our revenue, which is why the line level percentage discount is higher than our overall discount percentage.\n",
    "`(average > total)`\n",
    "But overall, our discount rate is about 17.6%, which is quite in line with maven Smart's own discount percentage.\n",
    "\n",
    "We probably can't increase discounts at our acquisition target to drive more sales, but at the very least, we know they have a comparable strategy to our own, which gives us some confidence in their management, in their own strategic thinking.\n",
    "\n",
    "\n",
    "#############################################################################################################################################################################"
   ]
  },
  {
   "cell_type": "code",
   "execution_count": 358,
   "metadata": {},
   "outputs": [
    {
     "data": {
      "text/plain": [
       "216713611"
      ]
     },
     "execution_count": 358,
     "metadata": {},
     "output_type": "execute_result"
    }
   ],
   "source": [
    "'''quantity_sold = sum(`QUANTITY`)'''\n",
    "quantity_sold = transactions_df['QUANTITY'].sum()\n",
    "quantity_sold"
   ]
  },
  {
   "cell_type": "code",
   "execution_count": 359,
   "metadata": {},
   "outputs": [
    {
     "data": {
      "text/html": [
       "<div>\n",
       "<style scoped>\n",
       "    .dataframe tbody tr th:only-of-type {\n",
       "        vertical-align: middle;\n",
       "    }\n",
       "\n",
       "    .dataframe tbody tr th {\n",
       "        vertical-align: top;\n",
       "    }\n",
       "\n",
       "    .dataframe thead th {\n",
       "        text-align: right;\n",
       "    }\n",
       "</style>\n",
       "<table border=\"1\" class=\"dataframe\">\n",
       "  <thead>\n",
       "    <tr style=\"text-align: right;\">\n",
       "      <th></th>\n",
       "      <th>household_key</th>\n",
       "      <th>BASKET_ID</th>\n",
       "      <th>DAY</th>\n",
       "      <th>WEEK_NO</th>\n",
       "      <th>PRODUCT_ID</th>\n",
       "      <th>STORE_ID</th>\n",
       "      <th>QUANTITY</th>\n",
       "      <th>SALES_VALUE</th>\n",
       "      <th>total_discount</th>\n",
       "      <th>discount_percent</th>\n",
       "    </tr>\n",
       "  </thead>\n",
       "  <tbody>\n",
       "    <tr>\n",
       "      <th>1442095</th>\n",
       "      <td>630</td>\n",
       "      <td>34749153595</td>\n",
       "      <td>503</td>\n",
       "      <td>73</td>\n",
       "      <td>6534178</td>\n",
       "      <td>384</td>\n",
       "      <td>89638</td>\n",
       "      <td>250.0</td>\n",
       "      <td>-13.45</td>\n",
       "      <td>0.05</td>\n",
       "    </tr>\n",
       "  </tbody>\n",
       "</table>\n",
       "</div>"
      ],
      "text/plain": [
       "         household_key    BASKET_ID  DAY  WEEK_NO  PRODUCT_ID  STORE_ID  \\\n",
       "1442095            630  34749153595  503       73     6534178       384   \n",
       "\n",
       "         QUANTITY  SALES_VALUE  total_discount  discount_percent  \n",
       "1442095     89638        250.0          -13.45              0.05  "
      ]
     },
     "execution_count": 359,
     "metadata": {},
     "output_type": "execute_result"
    }
   ],
   "source": [
    "'''Max quantity sold in a single row. Inspect the row as well. Does this have a high discount percentage?'''\n",
    "transactions_df.sort_values('QUANTITY', ascending=False)[:1]\n",
    "\n",
    "#or \n",
    "transactions_df.iloc[[transactions_df['QUANTITY'].argmax()]]"
   ]
  },
  {
   "cell_type": "code",
   "execution_count": 360,
   "metadata": {},
   "outputs": [
    {
     "data": {
      "text/plain": [
       "28.62"
      ]
     },
     "execution_count": 360,
     "metadata": {},
     "output_type": "execute_result"
    }
   ],
   "source": [
    "'''Total_sales_basket_id =  sum(SALES_VALUE) / nunique basket_id.'''\n",
    "total_sales_basket_ids = (transactions_df['SALES_VALUE'].sum() / transactions_df['BASKET_ID'].nunique()).round(2)\n",
    "total_sales_basket_ids"
   ]
  },
  {
   "cell_type": "code",
   "execution_count": 361,
   "metadata": {},
   "outputs": [
    {
     "data": {
      "text/plain": [
       "3175.91"
      ]
     },
     "execution_count": 361,
     "metadata": {},
     "output_type": "execute_result"
    }
   ],
   "source": [
    "'''Total_sales_household_id = sum(SALES_VALUE) / nunique household_key.'''\n",
    "total_sales_household_ids = (transactions_df['SALES_VALUE'].sum() / transactions_df['household_key'].nunique()).round(2)\n",
    "total_sales_household_ids"
   ]
  },
  {
   "cell_type": "code",
   "execution_count": 362,
   "metadata": {},
   "outputs": [
    {
     "data": {
      "text/html": [
       "<div>\n",
       "<style scoped>\n",
       "    .dataframe tbody tr th:only-of-type {\n",
       "        vertical-align: middle;\n",
       "    }\n",
       "\n",
       "    .dataframe tbody tr th {\n",
       "        vertical-align: top;\n",
       "    }\n",
       "\n",
       "    .dataframe thead th {\n",
       "        text-align: right;\n",
       "    }\n",
       "</style>\n",
       "<table border=\"1\" class=\"dataframe\">\n",
       "  <thead>\n",
       "    <tr style=\"text-align: right;\">\n",
       "      <th></th>\n",
       "      <th>QUANTITY</th>\n",
       "    </tr>\n",
       "    <tr>\n",
       "      <th>PRODUCT_ID</th>\n",
       "      <th></th>\n",
       "    </tr>\n",
       "  </thead>\n",
       "  <tbody>\n",
       "    <tr>\n",
       "      <th>6534178</th>\n",
       "      <td>180705254</td>\n",
       "    </tr>\n",
       "  </tbody>\n",
       "</table>\n",
       "</div>"
      ],
      "text/plain": [
       "             QUANTITY\n",
       "PRODUCT_ID           \n",
       "6534178     180705254"
      ]
     },
     "execution_count": 362,
     "metadata": {},
     "output_type": "execute_result"
    }
   ],
   "source": [
    "'''What was the highest quantiy sold for a single item in a single row?'''\n",
    "transactions_df.groupby('PRODUCT_ID')[['QUANTITY']].sum().sort_values('QUANTITY', ascending=False)[:1]"
   ]
  },
  {
   "cell_type": "markdown",
   "metadata": {},
   "source": [
    "### Analyzing total sales and quantities per household\n",
    "\n",
    "* Plot the distribution of total sales value purchased at the household level. \n",
    "* What were the top 10 households by quantity purchased?\n",
    "* What were the top 10 households by sales value?\n",
    "* Plot the total sales value for our top 10 households by value, ordered from highest to lowest."
   ]
  },
  {
   "cell_type": "code",
   "execution_count": 363,
   "metadata": {},
   "outputs": [
    {
     "data": {
      "text/html": [
       "<div>\n",
       "<style scoped>\n",
       "    .dataframe tbody tr th:only-of-type {\n",
       "        vertical-align: middle;\n",
       "    }\n",
       "\n",
       "    .dataframe tbody tr th {\n",
       "        vertical-align: top;\n",
       "    }\n",
       "\n",
       "    .dataframe thead th {\n",
       "        text-align: right;\n",
       "    }\n",
       "</style>\n",
       "<table border=\"1\" class=\"dataframe\">\n",
       "  <thead>\n",
       "    <tr style=\"text-align: right;\">\n",
       "      <th></th>\n",
       "      <th>household_key</th>\n",
       "      <th>BASKET_ID</th>\n",
       "      <th>DAY</th>\n",
       "      <th>WEEK_NO</th>\n",
       "      <th>PRODUCT_ID</th>\n",
       "      <th>STORE_ID</th>\n",
       "      <th>QUANTITY</th>\n",
       "      <th>SALES_VALUE</th>\n",
       "      <th>total_discount</th>\n",
       "      <th>discount_percent</th>\n",
       "    </tr>\n",
       "  </thead>\n",
       "  <tbody>\n",
       "    <tr>\n",
       "      <th>0</th>\n",
       "      <td>1364</td>\n",
       "      <td>26984896261</td>\n",
       "      <td>1</td>\n",
       "      <td>1</td>\n",
       "      <td>842930</td>\n",
       "      <td>31742</td>\n",
       "      <td>1</td>\n",
       "      <td>2.19</td>\n",
       "      <td>0.00</td>\n",
       "      <td>0.00</td>\n",
       "    </tr>\n",
       "    <tr>\n",
       "      <th>1</th>\n",
       "      <td>1364</td>\n",
       "      <td>26984896261</td>\n",
       "      <td>1</td>\n",
       "      <td>1</td>\n",
       "      <td>897044</td>\n",
       "      <td>31742</td>\n",
       "      <td>1</td>\n",
       "      <td>2.99</td>\n",
       "      <td>-0.40</td>\n",
       "      <td>0.13</td>\n",
       "    </tr>\n",
       "    <tr>\n",
       "      <th>2</th>\n",
       "      <td>1364</td>\n",
       "      <td>26984896261</td>\n",
       "      <td>1</td>\n",
       "      <td>1</td>\n",
       "      <td>920955</td>\n",
       "      <td>31742</td>\n",
       "      <td>1</td>\n",
       "      <td>3.09</td>\n",
       "      <td>0.00</td>\n",
       "      <td>0.00</td>\n",
       "    </tr>\n",
       "    <tr>\n",
       "      <th>3</th>\n",
       "      <td>1364</td>\n",
       "      <td>26984896261</td>\n",
       "      <td>1</td>\n",
       "      <td>1</td>\n",
       "      <td>937406</td>\n",
       "      <td>31742</td>\n",
       "      <td>1</td>\n",
       "      <td>2.50</td>\n",
       "      <td>-0.99</td>\n",
       "      <td>0.40</td>\n",
       "    </tr>\n",
       "    <tr>\n",
       "      <th>4</th>\n",
       "      <td>1364</td>\n",
       "      <td>26984896261</td>\n",
       "      <td>1</td>\n",
       "      <td>1</td>\n",
       "      <td>981760</td>\n",
       "      <td>31742</td>\n",
       "      <td>1</td>\n",
       "      <td>0.60</td>\n",
       "      <td>-0.79</td>\n",
       "      <td>1.00</td>\n",
       "    </tr>\n",
       "  </tbody>\n",
       "</table>\n",
       "</div>"
      ],
      "text/plain": [
       "   household_key    BASKET_ID  DAY  WEEK_NO  PRODUCT_ID  STORE_ID  QUANTITY  \\\n",
       "0           1364  26984896261    1        1      842930     31742         1   \n",
       "1           1364  26984896261    1        1      897044     31742         1   \n",
       "2           1364  26984896261    1        1      920955     31742         1   \n",
       "3           1364  26984896261    1        1      937406     31742         1   \n",
       "4           1364  26984896261    1        1      981760     31742         1   \n",
       "\n",
       "   SALES_VALUE  total_discount  discount_percent  \n",
       "0         2.19            0.00              0.00  \n",
       "1         2.99           -0.40              0.13  \n",
       "2         3.09            0.00              0.00  \n",
       "3         2.50           -0.99              0.40  \n",
       "4         0.60           -0.79              1.00  "
      ]
     },
     "execution_count": 363,
     "metadata": {},
     "output_type": "execute_result"
    }
   ],
   "source": [
    "transactions_df.head()"
   ]
  },
  {
   "cell_type": "code",
   "execution_count": 364,
   "metadata": {},
   "outputs": [
    {
     "data": {
      "text/plain": [
       "<Axes: ylabel='Frequency'>"
      ]
     },
     "execution_count": 364,
     "metadata": {},
     "output_type": "execute_result"
    },
    {
     "data": {
      "image/png": "[encoded data removed]",
      "text/plain": [
       "<Figure size 800x600 with 1 Axes>"
      ]
     },
     "metadata": {},
     "output_type": "display_data"
    }
   ],
   "source": [
    "# transactions_df.groupby('household_key').agg({'SALES_VALUE': 'sum'}).plot.hist()\n",
    "\n",
    "transactions_df.groupby('household_key').agg({'SALES_VALUE': 'sum'}).plot(kind='hist', \n",
    "                                                                          figsize= (8, 6), \n",
    "                                                                          legend=False, \n",
    "                                                                          fontsize= 8, \n",
    "                                                                          grid=True)"
   ]
  },
  {
   "cell_type": "code",
   "execution_count": 365,
   "metadata": {},
   "outputs": [
    {
     "data": {
      "text/html": [
       "<div>\n",
       "<style scoped>\n",
       "    .dataframe tbody tr th:only-of-type {\n",
       "        vertical-align: middle;\n",
       "    }\n",
       "\n",
       "    .dataframe tbody tr th {\n",
       "        vertical-align: top;\n",
       "    }\n",
       "\n",
       "    .dataframe thead th {\n",
       "        text-align: right;\n",
       "    }\n",
       "</style>\n",
       "<table border=\"1\" class=\"dataframe\">\n",
       "  <thead>\n",
       "    <tr style=\"text-align: right;\">\n",
       "      <th></th>\n",
       "      <th>QUANTITY</th>\n",
       "    </tr>\n",
       "    <tr>\n",
       "      <th>household_key</th>\n",
       "      <th></th>\n",
       "    </tr>\n",
       "  </thead>\n",
       "  <tbody>\n",
       "    <tr>\n",
       "      <th>1023</th>\n",
       "      <td>4479917</td>\n",
       "    </tr>\n",
       "    <tr>\n",
       "      <th>755</th>\n",
       "      <td>3141769</td>\n",
       "    </tr>\n",
       "    <tr>\n",
       "      <th>1609</th>\n",
       "      <td>2146715</td>\n",
       "    </tr>\n",
       "    <tr>\n",
       "      <th>13</th>\n",
       "      <td>1863829</td>\n",
       "    </tr>\n",
       "    <tr>\n",
       "      <th>1430</th>\n",
       "      <td>1741892</td>\n",
       "    </tr>\n",
       "    <tr>\n",
       "      <th>1527</th>\n",
       "      <td>1734632</td>\n",
       "    </tr>\n",
       "    <tr>\n",
       "      <th>1762</th>\n",
       "      <td>1669880</td>\n",
       "    </tr>\n",
       "    <tr>\n",
       "      <th>707</th>\n",
       "      <td>1640193</td>\n",
       "    </tr>\n",
       "    <tr>\n",
       "      <th>1029</th>\n",
       "      <td>1496204</td>\n",
       "    </tr>\n",
       "    <tr>\n",
       "      <th>1314</th>\n",
       "      <td>1492863</td>\n",
       "    </tr>\n",
       "  </tbody>\n",
       "</table>\n",
       "</div>"
      ],
      "text/plain": [
       "               QUANTITY\n",
       "household_key          \n",
       "1023            4479917\n",
       "755             3141769\n",
       "1609            2146715\n",
       "13              1863829\n",
       "1430            1741892\n",
       "1527            1734632\n",
       "1762            1669880\n",
       "707             1640193\n",
       "1029            1496204\n",
       "1314            1492863"
      ]
     },
     "execution_count": 365,
     "metadata": {},
     "output_type": "execute_result"
    }
   ],
   "source": [
    "top10_by_sales = transactions_df.groupby('household_key').agg({'SALES_VALUE': 'sum'}).sort_values('SALES_VALUE', ascending=False)[:10]\n",
    "top10_by_sales\n",
    "top10__by_quantity = transactions_df.groupby('household_key').agg({'QUANTITY': 'sum'}).sort_values('QUANTITY', ascending=False)[:10]\n",
    "top10__by_quantity"
   ]
  },
  {
   "cell_type": "code",
   "execution_count": 366,
   "metadata": {},
   "outputs": [
    {
     "data": {
      "text/html": [
       "<div>\n",
       "<style scoped>\n",
       "    .dataframe tbody tr th:only-of-type {\n",
       "        vertical-align: middle;\n",
       "    }\n",
       "\n",
       "    .dataframe tbody tr th {\n",
       "        vertical-align: top;\n",
       "    }\n",
       "\n",
       "    .dataframe thead th {\n",
       "        text-align: right;\n",
       "    }\n",
       "</style>\n",
       "<table border=\"1\" class=\"dataframe\">\n",
       "  <thead>\n",
       "    <tr style=\"text-align: right;\">\n",
       "      <th></th>\n",
       "      <th>QUANTITY</th>\n",
       "      <th>SALES_VALUE</th>\n",
       "    </tr>\n",
       "    <tr>\n",
       "      <th>household_key</th>\n",
       "      <th></th>\n",
       "      <th></th>\n",
       "    </tr>\n",
       "  </thead>\n",
       "  <tbody>\n",
       "    <tr>\n",
       "      <th>1023</th>\n",
       "      <td>4479917</td>\n",
       "      <td>38319.79</td>\n",
       "    </tr>\n",
       "    <tr>\n",
       "      <th>755</th>\n",
       "      <td>3141769</td>\n",
       "      <td>10617.05</td>\n",
       "    </tr>\n",
       "    <tr>\n",
       "      <th>1609</th>\n",
       "      <td>2146715</td>\n",
       "      <td>27859.68</td>\n",
       "    </tr>\n",
       "    <tr>\n",
       "      <th>13</th>\n",
       "      <td>1863829</td>\n",
       "      <td>13190.92</td>\n",
       "    </tr>\n",
       "    <tr>\n",
       "      <th>1430</th>\n",
       "      <td>1741892</td>\n",
       "      <td>20352.99</td>\n",
       "    </tr>\n",
       "    <tr>\n",
       "      <th>1527</th>\n",
       "      <td>1734632</td>\n",
       "      <td>17295.18</td>\n",
       "    </tr>\n",
       "    <tr>\n",
       "      <th>1762</th>\n",
       "      <td>1669880</td>\n",
       "      <td>15360.14</td>\n",
       "    </tr>\n",
       "    <tr>\n",
       "      <th>707</th>\n",
       "      <td>1640193</td>\n",
       "      <td>19194.42</td>\n",
       "    </tr>\n",
       "    <tr>\n",
       "      <th>1029</th>\n",
       "      <td>1496204</td>\n",
       "      <td>13785.55</td>\n",
       "    </tr>\n",
       "    <tr>\n",
       "      <th>1314</th>\n",
       "      <td>1492863</td>\n",
       "      <td>14330.40</td>\n",
       "    </tr>\n",
       "  </tbody>\n",
       "</table>\n",
       "</div>"
      ],
      "text/plain": [
       "               QUANTITY  SALES_VALUE\n",
       "household_key                       \n",
       "1023            4479917     38319.79\n",
       "755             3141769     10617.05\n",
       "1609            2146715     27859.68\n",
       "13              1863829     13190.92\n",
       "1430            1741892     20352.99\n",
       "1527            1734632     17295.18\n",
       "1762            1669880     15360.14\n",
       "707             1640193     19194.42\n",
       "1029            1496204     13785.55\n",
       "1314            1492863     14330.40"
      ]
     },
     "execution_count": 366,
     "metadata": {},
     "output_type": "execute_result"
    }
   ],
   "source": [
    "transactions_df.groupby('household_key').agg({'SALES_VALUE': 'sum', 'QUANTITY': 'sum'}).sort_values(['SALES_VALUE', 'QUANTITY'], ascending=[False, False])[:10]\n",
    "transactions_df.groupby('household_key').agg({'QUANTITY': 'sum', 'SALES_VALUE': 'sum'}).sort_values(['QUANTITY', 'SALES_VALUE'], ascending=[False, False])[:10]"
   ]
  },
  {
   "cell_type": "code",
   "execution_count": 367,
   "metadata": {},
   "outputs": [
    {
     "data": {
      "text/plain": [
       "<Axes: title={'center': 'Top 10 Household sales'}, xlabel='household_key', ylabel='Total Sales'>"
      ]
     },
     "execution_count": 367,
     "metadata": {},
     "output_type": "execute_result"
    },
    {
     "data": {
      "image/png": "[encoded data removed]",
      "text/plain": [
       "<Figure size 800x600 with 1 Axes>"
      ]
     },
     "metadata": {},
     "output_type": "display_data"
    }
   ],
   "source": [
    "top10_by_sales.plot(kind='bar', \n",
    "                        legend=False, \n",
    "                        figsize= (8,6), \n",
    "                        fontsize=8, \n",
    "                        ylabel=\"Total Sales\", \n",
    "                        title=\"Top 10 Household sales\", \n",
    "                        color = \"blue\")"
   ]
  },
  {
   "cell_type": "markdown",
   "metadata": {},
   "source": [
    "### Analyzing product sales \n",
    "\n",
    "* Which products had the most sales by sales_value? Plot  a horizontal bar chart.\n",
    "* Did the top 10 selling items have a higher than average discount rate?\n",
    "* What was the most common `PRODUCT_ID` among rows with the households in our top 10 households by sales value?\n",
    "* Look up the names of the  top 10 products by sales in the `products.csv` dataset.\n",
    "* Look up the product name of the item that had the highest quantity sold in a single row."
   ]
  },
  {
   "cell_type": "code",
   "execution_count": 368,
   "metadata": {},
   "outputs": [
    {
     "data": {
      "text/plain": [
       "<Figure size 640x480 with 0 Axes>"
      ]
     },
     "execution_count": 368,
     "metadata": {},
     "output_type": "execute_result"
    },
    {
     "data": {
      "image/png": "[encoded data removed]",
      "text/plain": [
       "<Figure size 800x600 with 1 Axes>"
      ]
     },
     "metadata": {},
     "output_type": "display_data"
    },
    {
     "data": {
      "text/plain": [
       "<Figure size 640x480 with 0 Axes>"
      ]
     },
     "metadata": {},
     "output_type": "display_data"
    }
   ],
   "source": [
    "'''Ploting products which had the most sales_values'''\n",
    "\n",
    "transactions_df.groupby('PRODUCT_ID').agg({'SALES_VALUE': 'sum'}).sort_values('SALES_VALUE', ascending=False)[: 10].plot(kind='bar', \n",
    "                                                                                                                         figsize= (8,6), \n",
    "                                                                                                                         legend=False, \n",
    "                                                                                                                         fontsize= 8, \n",
    "                                                                                                                         ylabel= \"Total Sales\", \n",
    "                                                                                                                         title= \"Top 10 products by sales\")\n",
    "\n",
    "plt.xticks(rotation=45)\n",
    "plt.figure()"
   ]
  },
  {
   "cell_type": "code",
   "execution_count": 374,
   "metadata": {},
   "outputs": [
    {
     "name": "stdout",
     "output_type": "stream",
     "text": [
      "-0.10331266528732726\n"
     ]
    },
    {
     "data": {
      "text/html": [
       "<div>\n",
       "<style scoped>\n",
       "    .dataframe tbody tr th:only-of-type {\n",
       "        vertical-align: middle;\n",
       "    }\n",
       "\n",
       "    .dataframe tbody tr th {\n",
       "        vertical-align: top;\n",
       "    }\n",
       "\n",
       "    .dataframe thead th {\n",
       "        text-align: right;\n",
       "    }\n",
       "</style>\n",
       "<table border=\"1\" class=\"dataframe\">\n",
       "  <thead>\n",
       "    <tr style=\"text-align: right;\">\n",
       "      <th></th>\n",
       "      <th>SALES_VALUE</th>\n",
       "      <th>total_discount</th>\n",
       "      <th>discount_rate</th>\n",
       "      <th>diff_discountRate_AvgRate</th>\n",
       "      <th>exceed_average_discount_rate</th>\n",
       "    </tr>\n",
       "    <tr>\n",
       "      <th>PRODUCT_ID</th>\n",
       "      <th></th>\n",
       "      <th></th>\n",
       "      <th></th>\n",
       "      <th></th>\n",
       "      <th></th>\n",
       "    </tr>\n",
       "  </thead>\n",
       "  <tbody>\n",
       "    <tr>\n",
       "      <th>916122</th>\n",
       "      <td>22749.02</td>\n",
       "      <td>-23687.810547</td>\n",
       "      <td>1.041267</td>\n",
       "      <td>0.937955</td>\n",
       "      <td>Yes</td>\n",
       "    </tr>\n",
       "    <tr>\n",
       "      <th>995242</th>\n",
       "      <td>21229.72</td>\n",
       "      <td>-11363.709961</td>\n",
       "      <td>0.535274</td>\n",
       "      <td>0.431961</td>\n",
       "      <td>Yes</td>\n",
       "    </tr>\n",
       "    <tr>\n",
       "      <th>1029743</th>\n",
       "      <td>33894.75</td>\n",
       "      <td>-2175.060059</td>\n",
       "      <td>0.064171</td>\n",
       "      <td>-0.039142</td>\n",
       "      <td>No</td>\n",
       "    </tr>\n",
       "    <tr>\n",
       "      <th>1082185</th>\n",
       "      <td>24149.79</td>\n",
       "      <td>-1869.560059</td>\n",
       "      <td>0.077415</td>\n",
       "      <td>-0.025897</td>\n",
       "      <td>No</td>\n",
       "    </tr>\n",
       "    <tr>\n",
       "      <th>1106523</th>\n",
       "      <td>22931.01</td>\n",
       "      <td>-1427.760010</td>\n",
       "      <td>0.062263</td>\n",
       "      <td>-0.041049</td>\n",
       "      <td>No</td>\n",
       "    </tr>\n",
       "    <tr>\n",
       "      <th>5569230</th>\n",
       "      <td>20051.95</td>\n",
       "      <td>-10687.540039</td>\n",
       "      <td>0.532993</td>\n",
       "      <td>0.429680</td>\n",
       "      <td>Yes</td>\n",
       "    </tr>\n",
       "    <tr>\n",
       "      <th>6533765</th>\n",
       "      <td>23831.14</td>\n",
       "      <td>0.000000</td>\n",
       "      <td>0.000000</td>\n",
       "      <td>-0.103313</td>\n",
       "      <td>No</td>\n",
       "    </tr>\n",
       "    <tr>\n",
       "      <th>6533889</th>\n",
       "      <td>42339.31</td>\n",
       "      <td>-1445.680054</td>\n",
       "      <td>0.034145</td>\n",
       "      <td>-0.069168</td>\n",
       "      <td>No</td>\n",
       "    </tr>\n",
       "    <tr>\n",
       "      <th>6534166</th>\n",
       "      <td>23755.70</td>\n",
       "      <td>-787.440002</td>\n",
       "      <td>0.033147</td>\n",
       "      <td>-0.070165</td>\n",
       "      <td>No</td>\n",
       "    </tr>\n",
       "    <tr>\n",
       "      <th>6534178</th>\n",
       "      <td>420154.13</td>\n",
       "      <td>-14234.179688</td>\n",
       "      <td>0.033878</td>\n",
       "      <td>-0.069434</td>\n",
       "      <td>No</td>\n",
       "    </tr>\n",
       "  </tbody>\n",
       "</table>\n",
       "</div>"
      ],
      "text/plain": [
       "            SALES_VALUE  total_discount  discount_rate  \\\n",
       "PRODUCT_ID                                               \n",
       "916122         22749.02   -23687.810547       1.041267   \n",
       "995242         21229.72   -11363.709961       0.535274   \n",
       "1029743        33894.75    -2175.060059       0.064171   \n",
       "1082185        24149.79    -1869.560059       0.077415   \n",
       "1106523        22931.01    -1427.760010       0.062263   \n",
       "5569230        20051.95   -10687.540039       0.532993   \n",
       "6533765        23831.14        0.000000       0.000000   \n",
       "6533889        42339.31    -1445.680054       0.034145   \n",
       "6534166        23755.70     -787.440002       0.033147   \n",
       "6534178       420154.13   -14234.179688       0.033878   \n",
       "\n",
       "            diff_discountRate_AvgRate exceed_average_discount_rate  \n",
       "PRODUCT_ID                                                          \n",
       "916122                       0.937955                          Yes  \n",
       "995242                       0.431961                          Yes  \n",
       "1029743                     -0.039142                           No  \n",
       "1082185                     -0.025897                           No  \n",
       "1106523                     -0.041049                           No  \n",
       "5569230                      0.429680                          Yes  \n",
       "6533765                     -0.103313                           No  \n",
       "6533889                     -0.069168                           No  \n",
       "6534166                     -0.070165                           No  \n",
       "6534178                     -0.069434                           No  "
      ]
     },
     "execution_count": 374,
     "metadata": {},
     "output_type": "execute_result"
    }
   ],
   "source": [
    "'''Checking if top 10 products has discount rate > average discount rate'''\n",
    "\n",
    "top_10_products = transactions_df.groupby('PRODUCT_ID').agg({'SALES_VALUE': 'sum'}).sort_values('SALES_VALUE', ascending=False)[: 10]\n",
    "\n",
    "\n",
    "\n",
    "\n",
    "\n",
    "# average_discount_rate = sum(total discount for 10 products)/ sum(total sales for 10 products)\n",
    "\n",
    "average_discount_rate_top10 = (transactions_df.query(\"PRODUCT_ID in @top_10_products.index\")\n",
    "                         .agg({'total_discount':'sum'}).iloc[0]) / (\n",
    "                        transactions_df.query(\"PRODUCT_ID in @top_10_products.index\")\n",
    "                         .agg({'SALES_VALUE':'sum'}).iloc[0])\n",
    "print(average_discount_rate_top10)\n",
    "\n",
    "\n",
    "\n",
    "\n",
    "\n",
    "\n",
    "main_columns = transactions_df.query(\"PRODUCT_ID in @top_10_products.index\").groupby('PRODUCT_ID')[['SALES_VALUE', 'total_discount']].sum()\n",
    "main_columns\n",
    "\n",
    "main_columns.assign(\n",
    "    discount_rate = main_columns['total_discount'].abs() / main_columns['SALES_VALUE'],\n",
    "    diff_discountRate_AvgRate = lambda x:x['discount_rate'] - abs(average_discount_rate_top10),   # res>0 --> higher than average discount rate\n",
    "    exceed_average_discount_rate = lambda y: np.where(y['diff_discountRate_AvgRate']> 0, \"Yes\", \"No\")\n",
    ")"
   ]
  },
  {
   "cell_type": "markdown",
   "metadata": {},
   "source": [
    "# Conclusion\n",
    "We can see that for our top ten products, our overall discount rate was around 10%, which is significantly lower than the 17% overall discount rate we saw for our general data set.\n",
    "\n",
    "So another strong pricing strategy by our acquisition target here, they know that folks are coming to our store to buy these products.\n",
    "* Why would we need to discount them if this is what they're coming to buy every week?\n",
    "* What we need to discount are items that we're not sure the customer is going to buy without an extra incentive.\n",
    "\n",
    "So by discounting our staple items less, that gives us more room to discount the items that might get folks to come in the door or sell products it might be starting to spoil or other things.\n",
    "\n",
    "##########################################################################################################################################################"
   ]
  },
  {
   "cell_type": "code",
   "execution_count": 370,
   "metadata": {},
   "outputs": [
    {
     "name": "stdout",
     "output_type": "stream",
     "text": [
      "ProductIds are [  830503   839605   840664 ...   925230  1093799 17937077]\n",
      "count of productIds 13878\n"
     ]
    },
    {
     "data": {
      "text/plain": [
       "10"
      ]
     },
     "execution_count": 370,
     "metadata": {},
     "output_type": "execute_result"
    }
   ],
   "source": [
    "'''What was the most common `PRODUCT_ID` among rows with the households in our top 10 households by sales value?'''\n",
    "top_10_householdIDs = transactions_df.groupby(['household_key']).agg({'SALES_VALUE': 'sum'}).sort_values(['SALES_VALUE'], ascending=[False])[:10]\n",
    "top_10_householdIDs\n",
    "\n",
    "\n",
    "most_common_productIDs = transactions_df.query(\"household_key in @top_10_householdIDs.index\").loc[:, 'PRODUCT_ID'].unique()\n",
    "print(f'ProductIds are {most_common_productIDs}')\n",
    "most_common_productIDs_count =transactions_df.query(\"household_key in @top_10_householdIDs.index\").loc[:, 'PRODUCT_ID'].nunique()\n",
    "print(f'count of productIds {most_common_productIDs_count}')\n",
    "\n",
    "\n",
    "\n",
    "transactions_df.query(\"household_key in @top_10_householdIDs.index\").loc[:, 'household_key'].unique()\n",
    "transactions_df.query(\"household_key in @top_10_householdIDs.index\").loc[:, 'household_key'].nunique()"
   ]
  },
  {
   "cell_type": "code",
   "execution_count": 371,
   "metadata": {},
   "outputs": [
    {
     "data": {
      "text/html": [
       "<div>\n",
       "<style scoped>\n",
       "    .dataframe tbody tr th:only-of-type {\n",
       "        vertical-align: middle;\n",
       "    }\n",
       "\n",
       "    .dataframe tbody tr th {\n",
       "        vertical-align: top;\n",
       "    }\n",
       "\n",
       "    .dataframe thead th {\n",
       "        text-align: right;\n",
       "    }\n",
       "</style>\n",
       "<table border=\"1\" class=\"dataframe\">\n",
       "  <thead>\n",
       "    <tr style=\"text-align: right;\">\n",
       "      <th></th>\n",
       "      <th>PRODUCT_ID</th>\n",
       "      <th>MANUFACTURER</th>\n",
       "      <th>DEPARTMENT</th>\n",
       "      <th>BRAND</th>\n",
       "      <th>COMMODITY_DESC</th>\n",
       "      <th>SUB_COMMODITY_DESC</th>\n",
       "      <th>CURR_SIZE_OF_PRODUCT</th>\n",
       "    </tr>\n",
       "  </thead>\n",
       "  <tbody>\n",
       "    <tr>\n",
       "      <th>0</th>\n",
       "      <td>25671</td>\n",
       "      <td>2</td>\n",
       "      <td>GROCERY</td>\n",
       "      <td>National</td>\n",
       "      <td>FRZN ICE</td>\n",
       "      <td>ICE - CRUSHED/CUBED</td>\n",
       "      <td>22 LB</td>\n",
       "    </tr>\n",
       "    <tr>\n",
       "      <th>1</th>\n",
       "      <td>26081</td>\n",
       "      <td>2</td>\n",
       "      <td>MISC. TRANS.</td>\n",
       "      <td>National</td>\n",
       "      <td>NO COMMODITY DESCRIPTION</td>\n",
       "      <td>NO SUBCOMMODITY DESCRIPTION</td>\n",
       "      <td></td>\n",
       "    </tr>\n",
       "    <tr>\n",
       "      <th>2</th>\n",
       "      <td>26093</td>\n",
       "      <td>69</td>\n",
       "      <td>PASTRY</td>\n",
       "      <td>Private</td>\n",
       "      <td>BREAD</td>\n",
       "      <td>BREAD:ITALIAN/FRENCH</td>\n",
       "      <td></td>\n",
       "    </tr>\n",
       "    <tr>\n",
       "      <th>3</th>\n",
       "      <td>26190</td>\n",
       "      <td>69</td>\n",
       "      <td>GROCERY</td>\n",
       "      <td>Private</td>\n",
       "      <td>FRUIT - SHELF STABLE</td>\n",
       "      <td>APPLE SAUCE</td>\n",
       "      <td>50 OZ</td>\n",
       "    </tr>\n",
       "    <tr>\n",
       "      <th>4</th>\n",
       "      <td>26355</td>\n",
       "      <td>69</td>\n",
       "      <td>GROCERY</td>\n",
       "      <td>Private</td>\n",
       "      <td>COOKIES/CONES</td>\n",
       "      <td>SPECIALTY COOKIES</td>\n",
       "      <td>14 OZ</td>\n",
       "    </tr>\n",
       "  </tbody>\n",
       "</table>\n",
       "</div>"
      ],
      "text/plain": [
       "   PRODUCT_ID  MANUFACTURER    DEPARTMENT     BRAND            COMMODITY_DESC  \\\n",
       "0       25671             2       GROCERY  National                  FRZN ICE   \n",
       "1       26081             2  MISC. TRANS.  National  NO COMMODITY DESCRIPTION   \n",
       "2       26093            69        PASTRY   Private                     BREAD   \n",
       "3       26190            69       GROCERY   Private      FRUIT - SHELF STABLE   \n",
       "4       26355            69       GROCERY   Private             COOKIES/CONES   \n",
       "\n",
       "            SUB_COMMODITY_DESC CURR_SIZE_OF_PRODUCT  \n",
       "0          ICE - CRUSHED/CUBED                22 LB  \n",
       "1  NO SUBCOMMODITY DESCRIPTION                       \n",
       "2         BREAD:ITALIAN/FRENCH                       \n",
       "3                  APPLE SAUCE                50 OZ  \n",
       "4            SPECIALTY COOKIES                14 OZ  "
      ]
     },
     "execution_count": 371,
     "metadata": {},
     "output_type": "execute_result"
    }
   ],
   "source": [
    "products = pd.read_csv(r'E:\\Course Data Analysis with python (Maven Analytics)\\Pandas+Course+Resources\\Pandas Course Resources\\project_data\\product.csv', \n",
    "                       delimiter=',')\n",
    "\n",
    "products.head()"
   ]
  },
  {
   "cell_type": "code",
   "execution_count": 372,
   "metadata": {},
   "outputs": [
    {
     "data": {
      "text/html": [
       "<div>\n",
       "<style scoped>\n",
       "    .dataframe tbody tr th:only-of-type {\n",
       "        vertical-align: middle;\n",
       "    }\n",
       "\n",
       "    .dataframe tbody tr th {\n",
       "        vertical-align: top;\n",
       "    }\n",
       "\n",
       "    .dataframe thead th {\n",
       "        text-align: right;\n",
       "    }\n",
       "</style>\n",
       "<table border=\"1\" class=\"dataframe\">\n",
       "  <thead>\n",
       "    <tr style=\"text-align: right;\">\n",
       "      <th></th>\n",
       "      <th>PRODUCT_ID</th>\n",
       "      <th>MANUFACTURER</th>\n",
       "      <th>DEPARTMENT</th>\n",
       "      <th>BRAND</th>\n",
       "      <th>COMMODITY_DESC</th>\n",
       "      <th>SUB_COMMODITY_DESC</th>\n",
       "      <th>CURR_SIZE_OF_PRODUCT</th>\n",
       "    </tr>\n",
       "  </thead>\n",
       "  <tbody>\n",
       "    <tr>\n",
       "      <th>10630</th>\n",
       "      <td>860776</td>\n",
       "      <td>2</td>\n",
       "      <td>PRODUCE</td>\n",
       "      <td>National</td>\n",
       "      <td>VEGETABLES - ALL OTHERS</td>\n",
       "      <td>CUCUMBERS</td>\n",
       "      <td>36 CT</td>\n",
       "    </tr>\n",
       "    <tr>\n",
       "      <th>20973</th>\n",
       "      <td>951590</td>\n",
       "      <td>910</td>\n",
       "      <td>GROCERY</td>\n",
       "      <td>National</td>\n",
       "      <td>BAKED BREAD/BUNS/ROLLS</td>\n",
       "      <td>MAINSTREAM WHITE BREAD</td>\n",
       "      <td>20 OZ</td>\n",
       "    </tr>\n",
       "    <tr>\n",
       "      <th>24250</th>\n",
       "      <td>981760</td>\n",
       "      <td>69</td>\n",
       "      <td>GROCERY</td>\n",
       "      <td>Private</td>\n",
       "      <td>EGGS</td>\n",
       "      <td>EGGS - X-LARGE</td>\n",
       "      <td>1 DZ</td>\n",
       "    </tr>\n",
       "    <tr>\n",
       "      <th>29657</th>\n",
       "      <td>1029743</td>\n",
       "      <td>69</td>\n",
       "      <td>GROCERY</td>\n",
       "      <td>Private</td>\n",
       "      <td>FLUID MILK PRODUCTS</td>\n",
       "      <td>FLUID MILK WHITE ONLY</td>\n",
       "      <td>1 GA</td>\n",
       "    </tr>\n",
       "    <tr>\n",
       "      <th>35576</th>\n",
       "      <td>1082185</td>\n",
       "      <td>2</td>\n",
       "      <td>PRODUCE</td>\n",
       "      <td>National</td>\n",
       "      <td>TROPICAL FRUIT</td>\n",
       "      <td>BANANAS</td>\n",
       "      <td>40 LB</td>\n",
       "    </tr>\n",
       "    <tr>\n",
       "      <th>38262</th>\n",
       "      <td>1106523</td>\n",
       "      <td>69</td>\n",
       "      <td>GROCERY</td>\n",
       "      <td>Private</td>\n",
       "      <td>FLUID MILK PRODUCTS</td>\n",
       "      <td>FLUID MILK WHITE ONLY</td>\n",
       "      <td>1 GA</td>\n",
       "    </tr>\n",
       "    <tr>\n",
       "      <th>40600</th>\n",
       "      <td>1127831</td>\n",
       "      <td>5937</td>\n",
       "      <td>PRODUCE</td>\n",
       "      <td>National</td>\n",
       "      <td>BERRIES</td>\n",
       "      <td>STRAWBERRIES</td>\n",
       "      <td>16 OZ</td>\n",
       "    </tr>\n",
       "    <tr>\n",
       "      <th>57181</th>\n",
       "      <td>6533889</td>\n",
       "      <td>69</td>\n",
       "      <td>MISC SALES TRAN</td>\n",
       "      <td>Private</td>\n",
       "      <td>COUPON/MISC ITEMS</td>\n",
       "      <td>GASOLINE-REG UNLEADED</td>\n",
       "      <td></td>\n",
       "    </tr>\n",
       "    <tr>\n",
       "      <th>57221</th>\n",
       "      <td>6534178</td>\n",
       "      <td>69</td>\n",
       "      <td>KIOSK-GAS</td>\n",
       "      <td>Private</td>\n",
       "      <td>COUPON/MISC ITEMS</td>\n",
       "      <td>GASOLINE-REG UNLEADED</td>\n",
       "      <td></td>\n",
       "    </tr>\n",
       "    <tr>\n",
       "      <th>68952</th>\n",
       "      <td>9677202</td>\n",
       "      <td>69</td>\n",
       "      <td>GROCERY</td>\n",
       "      <td>Private</td>\n",
       "      <td>PAPER TOWELS</td>\n",
       "      <td>PAPER TOWELS &amp; HOLDERS</td>\n",
       "      <td></td>\n",
       "    </tr>\n",
       "  </tbody>\n",
       "</table>\n",
       "</div>"
      ],
      "text/plain": [
       "       PRODUCT_ID  MANUFACTURER       DEPARTMENT     BRAND  \\\n",
       "10630      860776             2          PRODUCE  National   \n",
       "20973      951590           910          GROCERY  National   \n",
       "24250      981760            69          GROCERY   Private   \n",
       "29657     1029743            69          GROCERY   Private   \n",
       "35576     1082185             2          PRODUCE  National   \n",
       "38262     1106523            69          GROCERY   Private   \n",
       "40600     1127831          5937          PRODUCE  National   \n",
       "57181     6533889            69  MISC SALES TRAN   Private   \n",
       "57221     6534178            69        KIOSK-GAS   Private   \n",
       "68952     9677202            69          GROCERY   Private   \n",
       "\n",
       "                COMMODITY_DESC      SUB_COMMODITY_DESC CURR_SIZE_OF_PRODUCT  \n",
       "10630  VEGETABLES - ALL OTHERS               CUCUMBERS                36 CT  \n",
       "20973   BAKED BREAD/BUNS/ROLLS  MAINSTREAM WHITE BREAD                20 OZ  \n",
       "24250                     EGGS          EGGS - X-LARGE                 1 DZ  \n",
       "29657      FLUID MILK PRODUCTS   FLUID MILK WHITE ONLY                 1 GA  \n",
       "35576           TROPICAL FRUIT                 BANANAS                40 LB  \n",
       "38262      FLUID MILK PRODUCTS   FLUID MILK WHITE ONLY                 1 GA  \n",
       "40600                  BERRIES            STRAWBERRIES                16 OZ  \n",
       "57181        COUPON/MISC ITEMS   GASOLINE-REG UNLEADED                       \n",
       "57221        COUPON/MISC ITEMS   GASOLINE-REG UNLEADED                       \n",
       "68952             PAPER TOWELS  PAPER TOWELS & HOLDERS                       "
      ]
     },
     "execution_count": 372,
     "metadata": {},
     "output_type": "execute_result"
    }
   ],
   "source": [
    "'''Look up the names of the  top 10 products by sales in the `products.csv` dataset'''\n",
    "top10_by_sales\n",
    "\n",
    "\n",
    "lookup_top10_products = transactions_df.query(\"household_key in @top10_by_sales.index\").loc[:, \"PRODUCT_ID\"].value_counts().sort_values(ascending=False)[:10]\n",
    "lookup_top10_products\n",
    "\n",
    "\n",
    "products.query(\"PRODUCT_ID in @lookup_top10_products.index\")"
   ]
  },
  {
   "cell_type": "code",
   "execution_count": 373,
   "metadata": {},
   "outputs": [
    {
     "data": {
      "text/html": [
       "<div>\n",
       "<style scoped>\n",
       "    .dataframe tbody tr th:only-of-type {\n",
       "        vertical-align: middle;\n",
       "    }\n",
       "\n",
       "    .dataframe tbody tr th {\n",
       "        vertical-align: top;\n",
       "    }\n",
       "\n",
       "    .dataframe thead th {\n",
       "        text-align: right;\n",
       "    }\n",
       "</style>\n",
       "<table border=\"1\" class=\"dataframe\">\n",
       "  <thead>\n",
       "    <tr style=\"text-align: right;\">\n",
       "      <th></th>\n",
       "      <th>PRODUCT_ID</th>\n",
       "      <th>MANUFACTURER</th>\n",
       "      <th>DEPARTMENT</th>\n",
       "      <th>BRAND</th>\n",
       "      <th>COMMODITY_DESC</th>\n",
       "      <th>SUB_COMMODITY_DESC</th>\n",
       "      <th>CURR_SIZE_OF_PRODUCT</th>\n",
       "    </tr>\n",
       "  </thead>\n",
       "  <tbody>\n",
       "    <tr>\n",
       "      <th>57221</th>\n",
       "      <td>6534178</td>\n",
       "      <td>69</td>\n",
       "      <td>KIOSK-GAS</td>\n",
       "      <td>Private</td>\n",
       "      <td>COUPON/MISC ITEMS</td>\n",
       "      <td>GASOLINE-REG UNLEADED</td>\n",
       "      <td></td>\n",
       "    </tr>\n",
       "  </tbody>\n",
       "</table>\n",
       "</div>"
      ],
      "text/plain": [
       "       PRODUCT_ID  MANUFACTURER DEPARTMENT    BRAND     COMMODITY_DESC  \\\n",
       "57221     6534178            69  KIOSK-GAS  Private  COUPON/MISC ITEMS   \n",
       "\n",
       "          SUB_COMMODITY_DESC CURR_SIZE_OF_PRODUCT  \n",
       "57221  GASOLINE-REG UNLEADED                       "
      ]
     },
     "execution_count": 373,
     "metadata": {},
     "output_type": "execute_result"
    }
   ],
   "source": [
    "'''Look up the product name of the item that had the highest quantity sold in a single row.'''\n",
    "\n",
    "top10__by_quantity\n",
    "\n",
    "\n",
    "lookup2_top10_products = transactions_df.query(\"household_key in @top10__by_quantity.index\").loc[:, \"PRODUCT_ID\"].value_counts().sort_values(ascending=False)[:10].index\n",
    "lookup2_top10_products\n",
    "\n",
    "products.query(\"PRODUCT_ID == @lookup2_top10_products[0]\")\n"
   ]
  }
 ],
 "metadata": {
  "kernelspec": {
   "display_name": "Python 3",
   "language": "python",
   "name": "python3"
  },
  "language_info": {
   "codemirror_mode": {
    "name": "ipython",
    "version": 3
   },
   "file_extension": ".py",
   "mimetype": "text/x-python",
   "name": "python",
   "nbconvert_exporter": "python",
   "pygments_lexer": "ipython3",
   "version": "3.12.3"
  }
 },
 "nbformat": 4,
 "nbformat_minor": 2
}
