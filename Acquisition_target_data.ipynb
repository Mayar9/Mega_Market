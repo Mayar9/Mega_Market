{
 "cells": [
  {
   "cell_type": "code",
   "execution_count": 2,
   "metadata": {},
   "outputs": [],
   "source": [
    "import pandas as pd \n",
    "import numpy as np"
   ]
  },
  {
   "cell_type": "code",
   "execution_count": 13,
   "metadata": {},
   "outputs": [],
   "source": [
    "df1 = np.genfromtxt(r'E:\\Course Data Analysis with python (Maven Analytics)\\Maven MagaMart Project\\magaMarket_Project\\Maven CSV - NPz files\\project_transactions.csv')\n",
    "df2 = np.genfromtxt(r'E:\\Course Data Analysis with python (Maven Analytics)\\Maven MagaMart Project\\magaMarket_Project\\Maven CSV - NPz files\\product.csv', \n",
    "                    delimiter= ',',\n",
    "                    dtype= np.str_)\n",
    "df3 = np.genfromtxt(r'E:\\Course Data Analysis with python (Maven Analytics)\\Maven MagaMart Project\\magaMarket_Project\\Maven CSV - NPz files\\hh_demographic.csv', \n",
    "                    delimiter= ',',\n",
    "                    dtype= np.str_)"
   ]
  },
  {
   "cell_type": "code",
   "execution_count": null,
   "metadata": {},
   "outputs": [],
   "source": []
  }
 ],
 "metadata": {
  "kernelspec": {
   "display_name": "Python 3",
   "language": "python",
   "name": "python3"
  },
  "language_info": {
   "codemirror_mode": {
    "name": "ipython",
    "version": 3
   },
   "file_extension": ".py",
   "mimetype": "text/x-python",
   "name": "python",
   "nbconvert_exporter": "python",
   "pygments_lexer": "ipython3",
   "version": "3.12.3"
  }
 },
 "nbformat": 4,
 "nbformat_minor": 2
}
