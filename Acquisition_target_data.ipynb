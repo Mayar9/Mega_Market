{
 "cells": [
  {
   "cell_type": "markdown",
   "metadata": {},
   "source": [
    "##### Importing needed Packages "
   ]
  },
  {
   "cell_type": "code",
   "execution_count": 100,
   "metadata": {},
   "outputs": [],
   "source": [
    "import pandas as pd \n",
    "import numpy as np \n",
    "import matplotlib.pyplot as plt \n",
    "import seaborn as sns"
   ]
  },
  {
   "cell_type": "markdown",
   "metadata": {},
   "source": [
    "### Loading Transactions sheet and explore it  "
   ]
  },
  {
   "cell_type": "code",
   "execution_count": 101,
   "metadata": {},
   "outputs": [
    {
     "data": {
      "text/html": [
       "<div>\n",
       "<style scoped>\n",
       "    .dataframe tbody tr th:only-of-type {\n",
       "        vertical-align: middle;\n",
       "    }\n",
       "\n",
       "    .dataframe tbody tr th {\n",
       "        vertical-align: top;\n",
       "    }\n",
       "\n",
       "    .dataframe thead th {\n",
       "        text-align: right;\n",
       "    }\n",
       "</style>\n",
       "<table border=\"1\" class=\"dataframe\">\n",
       "  <thead>\n",
       "    <tr style=\"text-align: right;\">\n",
       "      <th></th>\n",
       "      <th>household_key</th>\n",
       "      <th>BASKET_ID</th>\n",
       "      <th>DAY</th>\n",
       "      <th>PRODUCT_ID</th>\n",
       "      <th>QUANTITY</th>\n",
       "      <th>SALES_VALUE</th>\n",
       "      <th>STORE_ID</th>\n",
       "      <th>RETAIL_DISC</th>\n",
       "      <th>WEEK_NO</th>\n",
       "      <th>COUPON_DISC</th>\n",
       "      <th>COUPON_MATCH_DISC</th>\n",
       "    </tr>\n",
       "  </thead>\n",
       "  <tbody>\n",
       "    <tr>\n",
       "      <th>0</th>\n",
       "      <td>1364</td>\n",
       "      <td>26984896261</td>\n",
       "      <td>1</td>\n",
       "      <td>842930</td>\n",
       "      <td>1</td>\n",
       "      <td>2.19</td>\n",
       "      <td>31742</td>\n",
       "      <td>0.00</td>\n",
       "      <td>1</td>\n",
       "      <td>0.0</td>\n",
       "      <td>0.0</td>\n",
       "    </tr>\n",
       "    <tr>\n",
       "      <th>1</th>\n",
       "      <td>1364</td>\n",
       "      <td>26984896261</td>\n",
       "      <td>1</td>\n",
       "      <td>897044</td>\n",
       "      <td>1</td>\n",
       "      <td>2.99</td>\n",
       "      <td>31742</td>\n",
       "      <td>-0.40</td>\n",
       "      <td>1</td>\n",
       "      <td>0.0</td>\n",
       "      <td>0.0</td>\n",
       "    </tr>\n",
       "    <tr>\n",
       "      <th>2</th>\n",
       "      <td>1364</td>\n",
       "      <td>26984896261</td>\n",
       "      <td>1</td>\n",
       "      <td>920955</td>\n",
       "      <td>1</td>\n",
       "      <td>3.09</td>\n",
       "      <td>31742</td>\n",
       "      <td>0.00</td>\n",
       "      <td>1</td>\n",
       "      <td>0.0</td>\n",
       "      <td>0.0</td>\n",
       "    </tr>\n",
       "    <tr>\n",
       "      <th>3</th>\n",
       "      <td>1364</td>\n",
       "      <td>26984896261</td>\n",
       "      <td>1</td>\n",
       "      <td>937406</td>\n",
       "      <td>1</td>\n",
       "      <td>2.50</td>\n",
       "      <td>31742</td>\n",
       "      <td>-0.99</td>\n",
       "      <td>1</td>\n",
       "      <td>0.0</td>\n",
       "      <td>0.0</td>\n",
       "    </tr>\n",
       "    <tr>\n",
       "      <th>4</th>\n",
       "      <td>1364</td>\n",
       "      <td>26984896261</td>\n",
       "      <td>1</td>\n",
       "      <td>981760</td>\n",
       "      <td>1</td>\n",
       "      <td>0.60</td>\n",
       "      <td>31742</td>\n",
       "      <td>-0.79</td>\n",
       "      <td>1</td>\n",
       "      <td>0.0</td>\n",
       "      <td>0.0</td>\n",
       "    </tr>\n",
       "  </tbody>\n",
       "</table>\n",
       "</div>"
      ],
      "text/plain": [
       "   household_key    BASKET_ID  DAY  PRODUCT_ID  QUANTITY  SALES_VALUE  \\\n",
       "0           1364  26984896261    1      842930         1         2.19   \n",
       "1           1364  26984896261    1      897044         1         2.99   \n",
       "2           1364  26984896261    1      920955         1         3.09   \n",
       "3           1364  26984896261    1      937406         1         2.50   \n",
       "4           1364  26984896261    1      981760         1         0.60   \n",
       "\n",
       "   STORE_ID  RETAIL_DISC  WEEK_NO  COUPON_DISC  COUPON_MATCH_DISC  \n",
       "0     31742         0.00        1          0.0                0.0  \n",
       "1     31742        -0.40        1          0.0                0.0  \n",
       "2     31742         0.00        1          0.0                0.0  \n",
       "3     31742        -0.99        1          0.0                0.0  \n",
       "4     31742        -0.79        1          0.0                0.0  "
      ]
     },
     "execution_count": 101,
     "metadata": {},
     "output_type": "execute_result"
    }
   ],
   "source": [
    "transactions_df = pd.read_csv(r'E:\\MegaMarket_Project\\megaMarket\\changes\\Maven CSV - NPz files\\project_transactions.csv', \n",
    "                              delimiter=',')\n",
    "\n",
    "\n",
    "transactions_df.head()"
   ]
  },
  {
   "cell_type": "code",
   "execution_count": 102,
   "metadata": {},
   "outputs": [
    {
     "data": {
      "text/plain": [
       "household_key        0\n",
       "BASKET_ID            0\n",
       "DAY                  0\n",
       "PRODUCT_ID           0\n",
       "QUANTITY             0\n",
       "SALES_VALUE          0\n",
       "STORE_ID             0\n",
       "RETAIL_DISC          0\n",
       "WEEK_NO              0\n",
       "COUPON_DISC          0\n",
       "COUPON_MATCH_DISC    0\n",
       "dtype: int64"
      ]
     },
     "execution_count": 102,
     "metadata": {},
     "output_type": "execute_result"
    }
   ],
   "source": [
    "'''Checking missing data'''\n",
    "transactions_df.isna().sum()"
   ]
  },
  {
   "cell_type": "code",
   "execution_count": 103,
   "metadata": {},
   "outputs": [
    {
     "data": {
      "text/plain": [
       "household_key          int64\n",
       "BASKET_ID              int64\n",
       "DAY                    int64\n",
       "PRODUCT_ID             int64\n",
       "QUANTITY               int64\n",
       "SALES_VALUE          float64\n",
       "STORE_ID               int64\n",
       "RETAIL_DISC          float64\n",
       "WEEK_NO                int64\n",
       "COUPON_DISC          float64\n",
       "COUPON_MATCH_DISC    float64\n",
       "dtype: object"
      ]
     },
     "execution_count": 103,
     "metadata": {},
     "output_type": "execute_result"
    }
   ],
   "source": [
    "'''Modify datatypes for all columns'''\n",
    "transactions_df.dtypes"
   ]
  },
  {
   "cell_type": "code",
   "execution_count": 104,
   "metadata": {},
   "outputs": [
    {
     "name": "stdout",
     "output_type": "stream",
     "text": [
      "<class 'pandas.core.frame.DataFrame'>\n",
      "RangeIndex: 2146311 entries, 0 to 2146310\n",
      "Data columns (total 11 columns):\n",
      " #   Column             Dtype  \n",
      "---  ------             -----  \n",
      " 0   household_key      int64  \n",
      " 1   BASKET_ID          int64  \n",
      " 2   DAY                int64  \n",
      " 3   PRODUCT_ID         int64  \n",
      " 4   QUANTITY           int64  \n",
      " 5   SALES_VALUE        float64\n",
      " 6   STORE_ID           int64  \n",
      " 7   RETAIL_DISC        float64\n",
      " 8   WEEK_NO            int64  \n",
      " 9   COUPON_DISC        float64\n",
      " 10  COUPON_MATCH_DISC  float64\n",
      "dtypes: float64(4), int64(7)\n",
      "memory usage: 180.1 MB\n"
     ]
    }
   ],
   "source": [
    "transactions_df.info(memory_usage='deep')  #usage: 180.1MB"
   ]
  },
  {
   "cell_type": "code",
   "execution_count": 105,
   "metadata": {},
   "outputs": [
    {
     "data": {
      "text/html": [
       "<div>\n",
       "<style scoped>\n",
       "    .dataframe tbody tr th:only-of-type {\n",
       "        vertical-align: middle;\n",
       "    }\n",
       "\n",
       "    .dataframe tbody tr th {\n",
       "        vertical-align: top;\n",
       "    }\n",
       "\n",
       "    .dataframe thead th {\n",
       "        text-align: right;\n",
       "    }\n",
       "</style>\n",
       "<table border=\"1\" class=\"dataframe\">\n",
       "  <thead>\n",
       "    <tr style=\"text-align: right;\">\n",
       "      <th></th>\n",
       "      <th>household_key</th>\n",
       "      <th>BASKET_ID</th>\n",
       "      <th>DAY</th>\n",
       "      <th>PRODUCT_ID</th>\n",
       "      <th>QUANTITY</th>\n",
       "      <th>SALES_VALUE</th>\n",
       "      <th>STORE_ID</th>\n",
       "      <th>RETAIL_DISC</th>\n",
       "      <th>WEEK_NO</th>\n",
       "      <th>COUPON_DISC</th>\n",
       "      <th>COUPON_MATCH_DISC</th>\n",
       "    </tr>\n",
       "  </thead>\n",
       "  <tbody>\n",
       "    <tr>\n",
       "      <th>count</th>\n",
       "      <td>2146311.00</td>\n",
       "      <td>2.146311e+06</td>\n",
       "      <td>2146311.00</td>\n",
       "      <td>2146311.00</td>\n",
       "      <td>2146311.00</td>\n",
       "      <td>2146311.00</td>\n",
       "      <td>2146311.00</td>\n",
       "      <td>2146311.00</td>\n",
       "      <td>2146311.00</td>\n",
       "      <td>2146311.00</td>\n",
       "      <td>2146311.00</td>\n",
       "    </tr>\n",
       "    <tr>\n",
       "      <th>mean</th>\n",
       "      <td>1056.23</td>\n",
       "      <td>3.404897e+10</td>\n",
       "      <td>389.51</td>\n",
       "      <td>2884714.94</td>\n",
       "      <td>100.97</td>\n",
       "      <td>3.11</td>\n",
       "      <td>3267.94</td>\n",
       "      <td>-0.53</td>\n",
       "      <td>56.33</td>\n",
       "      <td>-0.02</td>\n",
       "      <td>-0.00</td>\n",
       "    </tr>\n",
       "    <tr>\n",
       "      <th>std</th>\n",
       "      <td>605.01</td>\n",
       "      <td>4.723748e+09</td>\n",
       "      <td>190.05</td>\n",
       "      <td>3831949.29</td>\n",
       "      <td>1152.36</td>\n",
       "      <td>4.19</td>\n",
       "      <td>9122.39</td>\n",
       "      <td>1.23</td>\n",
       "      <td>27.15</td>\n",
       "      <td>0.21</td>\n",
       "      <td>0.04</td>\n",
       "    </tr>\n",
       "    <tr>\n",
       "      <th>min</th>\n",
       "      <td>1.00</td>\n",
       "      <td>2.698490e+10</td>\n",
       "      <td>1.00</td>\n",
       "      <td>25671.00</td>\n",
       "      <td>0.00</td>\n",
       "      <td>0.00</td>\n",
       "      <td>1.00</td>\n",
       "      <td>-130.02</td>\n",
       "      <td>1.00</td>\n",
       "      <td>-55.93</td>\n",
       "      <td>-7.70</td>\n",
       "    </tr>\n",
       "    <tr>\n",
       "      <th>25%</th>\n",
       "      <td>548.00</td>\n",
       "      <td>3.040798e+10</td>\n",
       "      <td>229.00</td>\n",
       "      <td>917231.00</td>\n",
       "      <td>1.00</td>\n",
       "      <td>1.29</td>\n",
       "      <td>330.00</td>\n",
       "      <td>-0.68</td>\n",
       "      <td>33.00</td>\n",
       "      <td>0.00</td>\n",
       "      <td>0.00</td>\n",
       "    </tr>\n",
       "    <tr>\n",
       "      <th>50%</th>\n",
       "      <td>1042.00</td>\n",
       "      <td>3.281176e+10</td>\n",
       "      <td>392.00</td>\n",
       "      <td>1027960.00</td>\n",
       "      <td>1.00</td>\n",
       "      <td>2.00</td>\n",
       "      <td>372.00</td>\n",
       "      <td>0.00</td>\n",
       "      <td>57.00</td>\n",
       "      <td>0.00</td>\n",
       "      <td>0.00</td>\n",
       "    </tr>\n",
       "    <tr>\n",
       "      <th>75%</th>\n",
       "      <td>1581.00</td>\n",
       "      <td>4.012804e+10</td>\n",
       "      <td>555.00</td>\n",
       "      <td>1132771.00</td>\n",
       "      <td>1.00</td>\n",
       "      <td>3.49</td>\n",
       "      <td>422.00</td>\n",
       "      <td>0.00</td>\n",
       "      <td>80.00</td>\n",
       "      <td>0.00</td>\n",
       "      <td>0.00</td>\n",
       "    </tr>\n",
       "    <tr>\n",
       "      <th>max</th>\n",
       "      <td>2099.00</td>\n",
       "      <td>4.230536e+10</td>\n",
       "      <td>711.00</td>\n",
       "      <td>18316298.00</td>\n",
       "      <td>89638.00</td>\n",
       "      <td>840.00</td>\n",
       "      <td>34280.00</td>\n",
       "      <td>3.99</td>\n",
       "      <td>102.00</td>\n",
       "      <td>0.00</td>\n",
       "      <td>0.00</td>\n",
       "    </tr>\n",
       "  </tbody>\n",
       "</table>\n",
       "</div>"
      ],
      "text/plain": [
       "       household_key     BASKET_ID         DAY   PRODUCT_ID    QUANTITY  \\\n",
       "count     2146311.00  2.146311e+06  2146311.00   2146311.00  2146311.00   \n",
       "mean         1056.23  3.404897e+10      389.51   2884714.94      100.97   \n",
       "std           605.01  4.723748e+09      190.05   3831949.29     1152.36   \n",
       "min             1.00  2.698490e+10        1.00     25671.00        0.00   \n",
       "25%           548.00  3.040798e+10      229.00    917231.00        1.00   \n",
       "50%          1042.00  3.281176e+10      392.00   1027960.00        1.00   \n",
       "75%          1581.00  4.012804e+10      555.00   1132771.00        1.00   \n",
       "max          2099.00  4.230536e+10      711.00  18316298.00    89638.00   \n",
       "\n",
       "       SALES_VALUE    STORE_ID  RETAIL_DISC     WEEK_NO  COUPON_DISC  \\\n",
       "count   2146311.00  2146311.00   2146311.00  2146311.00   2146311.00   \n",
       "mean          3.11     3267.94        -0.53       56.33        -0.02   \n",
       "std           4.19     9122.39         1.23       27.15         0.21   \n",
       "min           0.00        1.00      -130.02        1.00       -55.93   \n",
       "25%           1.29      330.00        -0.68       33.00         0.00   \n",
       "50%           2.00      372.00         0.00       57.00         0.00   \n",
       "75%           3.49      422.00         0.00       80.00         0.00   \n",
       "max         840.00    34280.00         3.99      102.00         0.00   \n",
       "\n",
       "       COUPON_MATCH_DISC  \n",
       "count         2146311.00  \n",
       "mean               -0.00  \n",
       "std                 0.04  \n",
       "min                -7.70  \n",
       "25%                 0.00  \n",
       "50%                 0.00  \n",
       "75%                 0.00  \n",
       "max                 0.00  "
      ]
     },
     "execution_count": 105,
     "metadata": {},
     "output_type": "execute_result"
    }
   ],
   "source": [
    "transactions_df.describe().round(2) "
   ]
  },
  {
   "cell_type": "code",
   "execution_count": 106,
   "metadata": {},
   "outputs": [
    {
     "name": "stdout",
     "output_type": "stream",
     "text": [
      "<class 'pandas.core.frame.DataFrame'>\n",
      "RangeIndex: 2146311 entries, 0 to 2146310\n",
      "Data columns (total 11 columns):\n",
      " #   Column             Dtype  \n",
      "---  ------             -----  \n",
      " 0   household_key      int64  \n",
      " 1   BASKET_ID          int64  \n",
      " 2   DAY                int64  \n",
      " 3   PRODUCT_ID         int64  \n",
      " 4   QUANTITY           int64  \n",
      " 5   SALES_VALUE        float64\n",
      " 6   STORE_ID           int64  \n",
      " 7   RETAIL_DISC        float32\n",
      " 8   WEEK_NO            int32  \n",
      " 9   COUPON_DISC        float32\n",
      " 10  COUPON_MATCH_DISC  float32\n",
      "dtypes: float32(3), float64(1), int32(1), int64(6)\n",
      "memory usage: 147.4 MB\n"
     ]
    }
   ],
   "source": [
    "'''\n",
    "1. Discounts has small values and can be replaced with float32\n",
    "2. WEEK_NO has small values int32\n",
    "'''\n",
    "\n",
    "\n",
    "#way1\n",
    "transactions_df.astype(\n",
    "    {\n",
    "    'RETAIL_DISC': 'float32', \n",
    "    'COUPON_DISC': 'float32', \n",
    "    'COUPON_MATCH_DISC': 'float32', \n",
    "    'WEEK_NO': 'int32'\n",
    "    }\n",
    "    \n",
    ")\n",
    "# doesn't change --> memory usage: 180.1 MB\n",
    "\n",
    "# transactions_df.info(memory_usage='deep')\n",
    "\n",
    "\n",
    "\n",
    "transactions_df = pd.read_csv(r'E:\\MegaMarket_Project\\megaMarket\\changes\\Maven CSV - NPz files\\project_transactions.csv', \n",
    "                              delimiter=',', \n",
    "                              dtype= {'RETAIL_DISC': 'float32', \n",
    "                                    'COUPON_DISC': 'float32', \n",
    "                                    'COUPON_MATCH_DISC': 'float32', \n",
    "                                    'WEEK_NO': 'int32'\n",
    "                                     }\n",
    "                            )\n",
    "\n",
    "\n",
    "transactions_df.info(memory_usage='deep')  #memory usage: 147.4 MB"
   ]
  },
  {
   "cell_type": "markdown",
   "metadata": {},
   "source": [
    "##### Check count of our dimensions in transaction model"
   ]
  },
  {
   "cell_type": "code",
   "execution_count": 107,
   "metadata": {},
   "outputs": [
    {
     "name": "stdout",
     "output_type": "stream",
     "text": [
      "2146311\n"
     ]
    },
    {
     "data": {
      "text/plain": [
       "84138"
      ]
     },
     "execution_count": 107,
     "metadata": {},
     "output_type": "execute_result"
    }
   ],
   "source": [
    "'''unique values for products IDs dimension in transactional model'''\n",
    "\n",
    "print(transactions_df['PRODUCT_ID'].count())\n",
    "transactions_df['PRODUCT_ID'].nunique()"
   ]
  },
  {
   "cell_type": "code",
   "execution_count": 108,
   "metadata": {},
   "outputs": [
    {
     "name": "stdout",
     "output_type": "stream",
     "text": [
      "2146311\n"
     ]
    },
    {
     "data": {
      "text/plain": [
       "2099"
      ]
     },
     "execution_count": 108,
     "metadata": {},
     "output_type": "execute_result"
    }
   ],
   "source": [
    "'''unique values for household dimension in transactional tmodel'''\n",
    "print(transactions_df['household_key'].count())\n",
    "transactions_df['household_key'].nunique()"
   ]
  },
  {
   "cell_type": "code",
   "execution_count": 109,
   "metadata": {},
   "outputs": [
    {
     "data": {
      "text/html": [
       "<div>\n",
       "<style scoped>\n",
       "    .dataframe tbody tr th:only-of-type {\n",
       "        vertical-align: middle;\n",
       "    }\n",
       "\n",
       "    .dataframe tbody tr th {\n",
       "        vertical-align: top;\n",
       "    }\n",
       "\n",
       "    .dataframe thead th {\n",
       "        text-align: right;\n",
       "    }\n",
       "</style>\n",
       "<table border=\"1\" class=\"dataframe\">\n",
       "  <thead>\n",
       "    <tr style=\"text-align: right;\">\n",
       "      <th></th>\n",
       "      <th>RETAIL_DISC</th>\n",
       "      <th>COUPON_DISC</th>\n",
       "      <th>COUPON_MATCH_DISC</th>\n",
       "    </tr>\n",
       "  </thead>\n",
       "  <tbody>\n",
       "    <tr>\n",
       "      <th>123</th>\n",
       "      <td>-0.69</td>\n",
       "      <td>-0.40</td>\n",
       "      <td>-0.40</td>\n",
       "    </tr>\n",
       "    <tr>\n",
       "      <th>143</th>\n",
       "      <td>-0.90</td>\n",
       "      <td>-0.75</td>\n",
       "      <td>-0.25</td>\n",
       "    </tr>\n",
       "    <tr>\n",
       "      <th>199</th>\n",
       "      <td>-0.49</td>\n",
       "      <td>-0.55</td>\n",
       "      <td>-0.45</td>\n",
       "    </tr>\n",
       "    <tr>\n",
       "      <th>509</th>\n",
       "      <td>-1.87</td>\n",
       "      <td>-2.25</td>\n",
       "      <td>-0.75</td>\n",
       "    </tr>\n",
       "    <tr>\n",
       "      <th>584</th>\n",
       "      <td>-0.89</td>\n",
       "      <td>-0.55</td>\n",
       "      <td>-0.45</td>\n",
       "    </tr>\n",
       "    <tr>\n",
       "      <th>...</th>\n",
       "      <td>...</td>\n",
       "      <td>...</td>\n",
       "      <td>...</td>\n",
       "    </tr>\n",
       "    <tr>\n",
       "      <th>2146008</th>\n",
       "      <td>0.00</td>\n",
       "      <td>-0.50</td>\n",
       "      <td>-0.50</td>\n",
       "    </tr>\n",
       "    <tr>\n",
       "      <th>2146016</th>\n",
       "      <td>-0.30</td>\n",
       "      <td>-0.35</td>\n",
       "      <td>-0.35</td>\n",
       "    </tr>\n",
       "    <tr>\n",
       "      <th>2146026</th>\n",
       "      <td>0.00</td>\n",
       "      <td>-0.40</td>\n",
       "      <td>-0.40</td>\n",
       "    </tr>\n",
       "    <tr>\n",
       "      <th>2146031</th>\n",
       "      <td>0.00</td>\n",
       "      <td>-0.70</td>\n",
       "      <td>-0.30</td>\n",
       "    </tr>\n",
       "    <tr>\n",
       "      <th>2146033</th>\n",
       "      <td>0.00</td>\n",
       "      <td>-0.50</td>\n",
       "      <td>-0.50</td>\n",
       "    </tr>\n",
       "  </tbody>\n",
       "</table>\n",
       "<p>13823 rows × 3 columns</p>\n",
       "</div>"
      ],
      "text/plain": [
       "         RETAIL_DISC  COUPON_DISC  COUPON_MATCH_DISC\n",
       "123            -0.69        -0.40              -0.40\n",
       "143            -0.90        -0.75              -0.25\n",
       "199            -0.49        -0.55              -0.45\n",
       "509            -1.87        -2.25              -0.75\n",
       "584            -0.89        -0.55              -0.45\n",
       "...              ...          ...                ...\n",
       "2146008         0.00        -0.50              -0.50\n",
       "2146016        -0.30        -0.35              -0.35\n",
       "2146026         0.00        -0.40              -0.40\n",
       "2146031         0.00        -0.70              -0.30\n",
       "2146033         0.00        -0.50              -0.50\n",
       "\n",
       "[13823 rows x 3 columns]"
      ]
     },
     "execution_count": 109,
     "metadata": {},
     "output_type": "execute_result"
    }
   ],
   "source": [
    "'''explore the discount calculation'''\n",
    "transactions_df[['RETAIL_DISC', 'COUPON_DISC', 'COUPON_MATCH_DISC']].query(\"COUPON_DISC != 0 and COUPON_MATCH_DISC != 0 \")"
   ]
  },
  {
   "cell_type": "markdown",
   "metadata": {},
   "source": [
    "## Create new calculated columns based on Business"
   ]
  },
  {
   "cell_type": "markdown",
   "metadata": {},
   "source": [
    "##### \n",
    "1. total_discount  = RETAIL_DISC +  COUPON_DISC \n",
    "2. discount %  =  abs(total_discount / sales_value)  ---> As total_discount increase, discount_percentage increase (selling product will be highly less than actual product price)\n",
    "3. drop main discounts columns (RETAIL_DISC, COUPON_DISC, COUPON_MATCH_DISC)"
   ]
  },
  {
   "cell_type": "code",
   "execution_count": 110,
   "metadata": {},
   "outputs": [],
   "source": [
    "transactions_df = transactions_df.assign(\n",
    "    total_discount = transactions_df['RETAIL_DISC'] + transactions_df['COUPON_DISC'], \n",
    "    discount_percent = lambda var: (var['total_discount'].abs() / var['SALES_VALUE']).round(3)\n",
    ").drop(['RETAIL_DISC', 'COUPON_DISC', 'COUPON_MATCH_DISC'], axis=1).reindex(['household_key', 'BASKET_ID', 'DAY', 'WEEK_NO', 'PRODUCT_ID', 'STORE_ID', 'QUANTITY', 'SALES_VALUE', 'total_discount', 'discount_percent'], axis=1)\n",
    "# .query(\"total_discount != 0\")"
   ]
  },
  {
   "cell_type": "code",
   "execution_count": 111,
   "metadata": {},
   "outputs": [
    {
     "data": {
      "text/html": [
       "<div>\n",
       "<style scoped>\n",
       "    .dataframe tbody tr th:only-of-type {\n",
       "        vertical-align: middle;\n",
       "    }\n",
       "\n",
       "    .dataframe tbody tr th {\n",
       "        vertical-align: top;\n",
       "    }\n",
       "\n",
       "    .dataframe thead th {\n",
       "        text-align: right;\n",
       "    }\n",
       "</style>\n",
       "<table border=\"1\" class=\"dataframe\">\n",
       "  <thead>\n",
       "    <tr style=\"text-align: right;\">\n",
       "      <th></th>\n",
       "      <th>household_key</th>\n",
       "      <th>BASKET_ID</th>\n",
       "      <th>DAY</th>\n",
       "      <th>WEEK_NO</th>\n",
       "      <th>PRODUCT_ID</th>\n",
       "      <th>STORE_ID</th>\n",
       "      <th>QUANTITY</th>\n",
       "      <th>SALES_VALUE</th>\n",
       "      <th>total_discount</th>\n",
       "      <th>discount_percent</th>\n",
       "    </tr>\n",
       "  </thead>\n",
       "  <tbody>\n",
       "    <tr>\n",
       "      <th>0</th>\n",
       "      <td>1364</td>\n",
       "      <td>26984896261</td>\n",
       "      <td>1</td>\n",
       "      <td>1</td>\n",
       "      <td>842930</td>\n",
       "      <td>31742</td>\n",
       "      <td>1</td>\n",
       "      <td>2.19</td>\n",
       "      <td>0.00</td>\n",
       "      <td>0.000</td>\n",
       "    </tr>\n",
       "    <tr>\n",
       "      <th>1</th>\n",
       "      <td>1364</td>\n",
       "      <td>26984896261</td>\n",
       "      <td>1</td>\n",
       "      <td>1</td>\n",
       "      <td>897044</td>\n",
       "      <td>31742</td>\n",
       "      <td>1</td>\n",
       "      <td>2.99</td>\n",
       "      <td>-0.40</td>\n",
       "      <td>0.134</td>\n",
       "    </tr>\n",
       "    <tr>\n",
       "      <th>2</th>\n",
       "      <td>1364</td>\n",
       "      <td>26984896261</td>\n",
       "      <td>1</td>\n",
       "      <td>1</td>\n",
       "      <td>920955</td>\n",
       "      <td>31742</td>\n",
       "      <td>1</td>\n",
       "      <td>3.09</td>\n",
       "      <td>0.00</td>\n",
       "      <td>0.000</td>\n",
       "    </tr>\n",
       "    <tr>\n",
       "      <th>3</th>\n",
       "      <td>1364</td>\n",
       "      <td>26984896261</td>\n",
       "      <td>1</td>\n",
       "      <td>1</td>\n",
       "      <td>937406</td>\n",
       "      <td>31742</td>\n",
       "      <td>1</td>\n",
       "      <td>2.50</td>\n",
       "      <td>-0.99</td>\n",
       "      <td>0.396</td>\n",
       "    </tr>\n",
       "    <tr>\n",
       "      <th>4</th>\n",
       "      <td>1364</td>\n",
       "      <td>26984896261</td>\n",
       "      <td>1</td>\n",
       "      <td>1</td>\n",
       "      <td>981760</td>\n",
       "      <td>31742</td>\n",
       "      <td>1</td>\n",
       "      <td>0.60</td>\n",
       "      <td>-0.79</td>\n",
       "      <td>1.317</td>\n",
       "    </tr>\n",
       "    <tr>\n",
       "      <th>...</th>\n",
       "      <td>...</td>\n",
       "      <td>...</td>\n",
       "      <td>...</td>\n",
       "      <td>...</td>\n",
       "      <td>...</td>\n",
       "      <td>...</td>\n",
       "      <td>...</td>\n",
       "      <td>...</td>\n",
       "      <td>...</td>\n",
       "      <td>...</td>\n",
       "    </tr>\n",
       "    <tr>\n",
       "      <th>2146306</th>\n",
       "      <td>1598</td>\n",
       "      <td>42305362535</td>\n",
       "      <td>711</td>\n",
       "      <td>102</td>\n",
       "      <td>92130</td>\n",
       "      <td>3228</td>\n",
       "      <td>1</td>\n",
       "      <td>0.99</td>\n",
       "      <td>0.00</td>\n",
       "      <td>0.000</td>\n",
       "    </tr>\n",
       "    <tr>\n",
       "      <th>2146307</th>\n",
       "      <td>1598</td>\n",
       "      <td>42305362535</td>\n",
       "      <td>711</td>\n",
       "      <td>102</td>\n",
       "      <td>114102</td>\n",
       "      <td>3228</td>\n",
       "      <td>1</td>\n",
       "      <td>8.89</td>\n",
       "      <td>0.00</td>\n",
       "      <td>0.000</td>\n",
       "    </tr>\n",
       "    <tr>\n",
       "      <th>2146308</th>\n",
       "      <td>1598</td>\n",
       "      <td>42305362535</td>\n",
       "      <td>711</td>\n",
       "      <td>102</td>\n",
       "      <td>133449</td>\n",
       "      <td>3228</td>\n",
       "      <td>1</td>\n",
       "      <td>6.99</td>\n",
       "      <td>0.00</td>\n",
       "      <td>0.000</td>\n",
       "    </tr>\n",
       "    <tr>\n",
       "      <th>2146309</th>\n",
       "      <td>1598</td>\n",
       "      <td>42305362535</td>\n",
       "      <td>711</td>\n",
       "      <td>102</td>\n",
       "      <td>6923644</td>\n",
       "      <td>3228</td>\n",
       "      <td>1</td>\n",
       "      <td>4.50</td>\n",
       "      <td>-0.49</td>\n",
       "      <td>0.109</td>\n",
       "    </tr>\n",
       "    <tr>\n",
       "      <th>2146310</th>\n",
       "      <td>1598</td>\n",
       "      <td>42305362535</td>\n",
       "      <td>711</td>\n",
       "      <td>102</td>\n",
       "      <td>14055192</td>\n",
       "      <td>3228</td>\n",
       "      <td>1</td>\n",
       "      <td>6.99</td>\n",
       "      <td>0.00</td>\n",
       "      <td>0.000</td>\n",
       "    </tr>\n",
       "  </tbody>\n",
       "</table>\n",
       "<p>2146311 rows × 10 columns</p>\n",
       "</div>"
      ],
      "text/plain": [
       "         household_key    BASKET_ID  DAY  WEEK_NO  PRODUCT_ID  STORE_ID  \\\n",
       "0                 1364  26984896261    1        1      842930     31742   \n",
       "1                 1364  26984896261    1        1      897044     31742   \n",
       "2                 1364  26984896261    1        1      920955     31742   \n",
       "3                 1364  26984896261    1        1      937406     31742   \n",
       "4                 1364  26984896261    1        1      981760     31742   \n",
       "...                ...          ...  ...      ...         ...       ...   \n",
       "2146306           1598  42305362535  711      102       92130      3228   \n",
       "2146307           1598  42305362535  711      102      114102      3228   \n",
       "2146308           1598  42305362535  711      102      133449      3228   \n",
       "2146309           1598  42305362535  711      102     6923644      3228   \n",
       "2146310           1598  42305362535  711      102    14055192      3228   \n",
       "\n",
       "         QUANTITY  SALES_VALUE  total_discount  discount_percent  \n",
       "0               1         2.19            0.00             0.000  \n",
       "1               1         2.99           -0.40             0.134  \n",
       "2               1         3.09            0.00             0.000  \n",
       "3               1         2.50           -0.99             0.396  \n",
       "4               1         0.60           -0.79             1.317  \n",
       "...           ...          ...             ...               ...  \n",
       "2146306         1         0.99            0.00             0.000  \n",
       "2146307         1         8.89            0.00             0.000  \n",
       "2146308         1         6.99            0.00             0.000  \n",
       "2146309         1         4.50           -0.49             0.109  \n",
       "2146310         1         6.99            0.00             0.000  \n",
       "\n",
       "[2146311 rows x 10 columns]"
      ]
     },
     "execution_count": 111,
     "metadata": {},
     "output_type": "execute_result"
    }
   ],
   "source": [
    "transactions_df"
   ]
  },
  {
   "cell_type": "markdown",
   "metadata": {},
   "source": [
    "## Overall Statistics (Measures)"
   ]
  },
  {
   "cell_type": "markdown",
   "metadata": {},
   "source": [
    "#####\n",
    "1. total_sales = sum(`SALES_VALUE`)\n",
    "2. total_discount = sum(`total_discount`)\n",
    "3. overall_discount_percent = sum(`total_discount`) / sum(`SALES_VALUE`)\n",
    "4. quantity_sold = sum(`QUANTITY`)\n",
    "5. Max quantity sold in a single row. Inspect the row as well. Does this have a high discount percentage?\n",
    "6. Total_sales_basket_id =  sum(`SALES_VALUE`) / nunique `basket_id`.\n",
    "7. Total_sales_household_id = sum(`SALES_VALUE`) / nunique `household_key`. \n",
    "8. What was the highest quantiy sold for a single item in a single row?\n"
   ]
  },
  {
   "cell_type": "code",
   "execution_count": 114,
   "metadata": {},
   "outputs": [
    {
     "data": {
      "text/plain": [
       "6666243.5"
      ]
     },
     "execution_count": 114,
     "metadata": {},
     "output_type": "execute_result"
    }
   ],
   "source": [
    "'''total_sales = sum(`SALES_VALUE`)'''\n",
    "total_sales = transactions_df['SALES_VALUE'].sum().round(2)\n",
    "total_sales"
   ]
  },
  {
   "cell_type": "code",
   "execution_count": 116,
   "metadata": {},
   "outputs": [
    {
     "data": {
      "text/plain": [
       "-1178658.0"
      ]
     },
     "execution_count": 116,
     "metadata": {},
     "output_type": "execute_result"
    }
   ],
   "source": [
    "'''total_discount = sum(`total_discount`)'''\n",
    "total_discount = transactions_df['total_discount'].sum()\n",
    "total_discount"
   ]
  },
  {
   "cell_type": "code",
   "execution_count": 119,
   "metadata": {},
   "outputs": [
    {
     "data": {
      "text/plain": [
       "-0.18"
      ]
     },
     "execution_count": 119,
     "metadata": {},
     "output_type": "execute_result"
    }
   ],
   "source": [
    "'''overall_discount_percent = sum(total_discount) / sum(SALES_VALUE)'''\n",
    "overall_discount_percent = (transactions_df['total_discount'].sum() / transactions_df['SALES_VALUE'].sum()).round(2)\n",
    "overall_discount_percent"
   ]
  },
  {
   "cell_type": "code",
   "execution_count": 121,
   "metadata": {},
   "outputs": [
    {
     "data": {
      "text/plain": [
       "216713611"
      ]
     },
     "execution_count": 121,
     "metadata": {},
     "output_type": "execute_result"
    }
   ],
   "source": [
    "'''quantity_sold = sum(`QUANTITY`)'''\n",
    "quantity_sold = transactions_df['QUANTITY'].sum()\n",
    "quantity_sold"
   ]
  },
  {
   "cell_type": "code",
   "execution_count": 129,
   "metadata": {},
   "outputs": [
    {
     "data": {
      "text/html": [
       "<div>\n",
       "<style scoped>\n",
       "    .dataframe tbody tr th:only-of-type {\n",
       "        vertical-align: middle;\n",
       "    }\n",
       "\n",
       "    .dataframe tbody tr th {\n",
       "        vertical-align: top;\n",
       "    }\n",
       "\n",
       "    .dataframe thead th {\n",
       "        text-align: right;\n",
       "    }\n",
       "</style>\n",
       "<table border=\"1\" class=\"dataframe\">\n",
       "  <thead>\n",
       "    <tr style=\"text-align: right;\">\n",
       "      <th></th>\n",
       "      <th>household_key</th>\n",
       "      <th>BASKET_ID</th>\n",
       "      <th>DAY</th>\n",
       "      <th>WEEK_NO</th>\n",
       "      <th>PRODUCT_ID</th>\n",
       "      <th>STORE_ID</th>\n",
       "      <th>QUANTITY</th>\n",
       "      <th>SALES_VALUE</th>\n",
       "      <th>total_discount</th>\n",
       "      <th>discount_percent</th>\n",
       "    </tr>\n",
       "  </thead>\n",
       "  <tbody>\n",
       "    <tr>\n",
       "      <th>1442095</th>\n",
       "      <td>630</td>\n",
       "      <td>34749153595</td>\n",
       "      <td>503</td>\n",
       "      <td>73</td>\n",
       "      <td>6534178</td>\n",
       "      <td>384</td>\n",
       "      <td>89638</td>\n",
       "      <td>250.0</td>\n",
       "      <td>-13.45</td>\n",
       "      <td>0.054</td>\n",
       "    </tr>\n",
       "  </tbody>\n",
       "</table>\n",
       "</div>"
      ],
      "text/plain": [
       "         household_key    BASKET_ID  DAY  WEEK_NO  PRODUCT_ID  STORE_ID  \\\n",
       "1442095            630  34749153595  503       73     6534178       384   \n",
       "\n",
       "         QUANTITY  SALES_VALUE  total_discount  discount_percent  \n",
       "1442095     89638        250.0          -13.45             0.054  "
      ]
     },
     "execution_count": 129,
     "metadata": {},
     "output_type": "execute_result"
    }
   ],
   "source": [
    "'''Max quantity sold in a single row. Inspect the row as well. Does this have a high discount percentage?'''\n",
    "transactions_df.sort_values('QUANTITY', ascending=False)[:1]\n",
    "\n",
    "#or \n",
    "transactions_df.iloc[[transactions_df['QUANTITY'].argmax()]]"
   ]
  },
  {
   "cell_type": "code",
   "execution_count": 132,
   "metadata": {},
   "outputs": [
    {
     "data": {
      "text/plain": [
       "28.62"
      ]
     },
     "execution_count": 132,
     "metadata": {},
     "output_type": "execute_result"
    }
   ],
   "source": [
    "'''Total_sales_basket_id =  sum(SALES_VALUE) / nunique basket_id.'''\n",
    "total_sales_basket_ids = (transactions_df['SALES_VALUE'].sum() / transactions_df['BASKET_ID'].nunique()).round(2)\n",
    "total_sales_basket_ids"
   ]
  },
  {
   "cell_type": "code",
   "execution_count": 136,
   "metadata": {},
   "outputs": [
    {
     "data": {
      "text/plain": [
       "3175.91"
      ]
     },
     "execution_count": 136,
     "metadata": {},
     "output_type": "execute_result"
    }
   ],
   "source": [
    "'''Total_sales_household_id = sum(SALES_VALUE) / nunique household_key.'''\n",
    "total_sales_household_ids = (transactions_df['SALES_VALUE'].sum() / transactions_df['household_key'].nunique()).round(2)\n",
    "total_sales_household_ids"
   ]
  },
  {
   "cell_type": "code",
   "execution_count": 139,
   "metadata": {},
   "outputs": [
    {
     "data": {
      "text/html": [
       "<div>\n",
       "<style scoped>\n",
       "    .dataframe tbody tr th:only-of-type {\n",
       "        vertical-align: middle;\n",
       "    }\n",
       "\n",
       "    .dataframe tbody tr th {\n",
       "        vertical-align: top;\n",
       "    }\n",
       "\n",
       "    .dataframe thead th {\n",
       "        text-align: right;\n",
       "    }\n",
       "</style>\n",
       "<table border=\"1\" class=\"dataframe\">\n",
       "  <thead>\n",
       "    <tr style=\"text-align: right;\">\n",
       "      <th></th>\n",
       "      <th>QUANTITY</th>\n",
       "    </tr>\n",
       "    <tr>\n",
       "      <th>PRODUCT_ID</th>\n",
       "      <th></th>\n",
       "    </tr>\n",
       "  </thead>\n",
       "  <tbody>\n",
       "    <tr>\n",
       "      <th>6534178</th>\n",
       "      <td>180705254</td>\n",
       "    </tr>\n",
       "  </tbody>\n",
       "</table>\n",
       "</div>"
      ],
      "text/plain": [
       "             QUANTITY\n",
       "PRODUCT_ID           \n",
       "6534178     180705254"
      ]
     },
     "execution_count": 139,
     "metadata": {},
     "output_type": "execute_result"
    }
   ],
   "source": [
    "'''What was the highest quantiy sold for a single item in a single row?'''\n",
    "transactions_df.groupby('PRODUCT_ID')[['QUANTITY']].sum().sort_values('QUANTITY', ascending=False)[:1]"
   ]
  }
 ],
 "metadata": {
  "kernelspec": {
   "display_name": "Python 3",
   "language": "python",
   "name": "python3"
  },
  "language_info": {
   "codemirror_mode": {
    "name": "ipython",
    "version": 3
   },
   "file_extension": ".py",
   "mimetype": "text/x-python",
   "name": "python",
   "nbconvert_exporter": "python",
   "pygments_lexer": "ipython3",
   "version": "3.12.3"
  }
 },
 "nbformat": 4,
 "nbformat_minor": 2
}
